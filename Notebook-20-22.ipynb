{
 "cells": [
  {
   "cell_type": "markdown",
   "id": "2b571c06-bfd5-464a-acf4-d28845c8e840",
   "metadata": {
    "tags": []
   },
   "source": [
    "# Slice setup"
   ]
  },
  {
   "cell_type": "code",
   "execution_count": 1,
   "id": "2e9c3ea6-f0b5-4e34-9a4c-82785ff386c4",
   "metadata": {},
   "outputs": [],
   "source": [
    "from fabrictestbed_extensions.fablib.fablib import FablibManager as fablib_manager\n",
    "fablib = fablib_manager()"
   ]
  },
  {
   "cell_type": "code",
   "execution_count": 2,
   "id": "be136fbc-173b-44d5-81d7-def5820d8a34",
   "metadata": {},
   "outputs": [],
   "source": [
    "# from fabrictestbed_extensions.fablib.fablib import FablibManager as fablib_manager\n",
    "# fablib = fablib_manager()\n",
    "# slice = fablib.get_slice(name=\"P4DPDK_HH\")\n",
    "slice = fablib.get_slice(name=\"P4DPDK_HH20\")\n",
    "\n",
    "# slice.delete()"
   ]
  },
  {
   "cell_type": "code",
   "execution_count": 3,
   "id": "faaf4cc4-f4ce-418d-be5b-8ad7d47f7921",
   "metadata": {},
   "outputs": [
    {
     "data": {
      "text/html": [
       "<style type=\"text/css\">\n",
       "#T_9f513 tr:nth-child(even) {\n",
       "  background: #dbf3ff;\n",
       "  color: #231f20;\n",
       "}\n",
       "#T_9f513 tr:nth-child(odd) {\n",
       "  background: #ffffff;\n",
       "  color: #231f20;\n",
       "}\n",
       "#T_9f513 caption {\n",
       "  text-align: center;\n",
       "  font-size: 150%;\n",
       "}\n",
       "#T_9f513_row0_col0, #T_9f513_row0_col1, #T_9f513_row1_col0, #T_9f513_row1_col1, #T_9f513_row2_col0, #T_9f513_row2_col1, #T_9f513_row3_col0, #T_9f513_row3_col1, #T_9f513_row4_col0, #T_9f513_row4_col1, #T_9f513_row5_col0, #T_9f513_row5_col1 {\n",
       "  text-align: left;\n",
       "  border: 1px #231f20 solid !important;\n",
       "  overwrite: False;\n",
       "}\n",
       "</style>\n",
       "<table id=\"T_9f513\">\n",
       "  <caption>Slice</caption>\n",
       "  <thead>\n",
       "  </thead>\n",
       "  <tbody>\n",
       "    <tr>\n",
       "      <td id=\"T_9f513_row0_col0\" class=\"data row0 col0\" >ID</td>\n",
       "      <td id=\"T_9f513_row0_col1\" class=\"data row0 col1\" >214f735b-7760-4efd-88c5-93c3c739836f</td>\n",
       "    </tr>\n",
       "    <tr>\n",
       "      <td id=\"T_9f513_row1_col0\" class=\"data row1 col0\" >Name</td>\n",
       "      <td id=\"T_9f513_row1_col1\" class=\"data row1 col1\" >P4DPDK_HH20</td>\n",
       "    </tr>\n",
       "    <tr>\n",
       "      <td id=\"T_9f513_row2_col0\" class=\"data row2 col0\" >Lease Expiration (UTC)</td>\n",
       "      <td id=\"T_9f513_row2_col1\" class=\"data row2 col1\" >2025-04-20 19:03:34 +0000</td>\n",
       "    </tr>\n",
       "    <tr>\n",
       "      <td id=\"T_9f513_row3_col0\" class=\"data row3 col0\" >Lease Start (UTC)</td>\n",
       "      <td id=\"T_9f513_row3_col1\" class=\"data row3 col1\" >2025-01-19 20:03:34 +0000</td>\n",
       "    </tr>\n",
       "    <tr>\n",
       "      <td id=\"T_9f513_row4_col0\" class=\"data row4 col0\" >Project ID</td>\n",
       "      <td id=\"T_9f513_row4_col1\" class=\"data row4 col1\" >8eaa3ec2-65e7-49a3-8c09-e1761141a6ad</td>\n",
       "    </tr>\n",
       "    <tr>\n",
       "      <td id=\"T_9f513_row5_col0\" class=\"data row5 col0\" >State</td>\n",
       "      <td id=\"T_9f513_row5_col1\" class=\"data row5 col1\" >StableOK</td>\n",
       "    </tr>\n",
       "  </tbody>\n",
       "</table>\n"
      ],
      "text/plain": [
       "<pandas.io.formats.style.Styler at 0x7efd2bde65d0>"
      ]
     },
     "metadata": {},
     "output_type": "display_data"
    }
   ],
   "source": [
    "slice.show();"
   ]
  },
  {
   "cell_type": "code",
   "execution_count": 4,
   "id": "61333554-ef05-480e-bee6-c2a035213b0c",
   "metadata": {},
   "outputs": [],
   "source": [
    "servers = []\n",
    "\n",
    "servers.append(slice.get_node(name=\"server1\"))     \n",
    "servers.append(slice.get_node(name=\"server2\"))\n",
    "servers.append(slice.get_node(name=\"server3\"))\n",
    "\n",
    "server1 = servers[0]\n",
    "server2 = servers[1]\n",
    "server3 = servers[2]"
   ]
  },
  {
   "cell_type": "markdown",
   "id": "94197771-e620-48f3-80f2-9cab71f48542",
   "metadata": {
    "tags": []
   },
   "source": [
    "## Reboot"
   ]
  },
  {
   "cell_type": "code",
   "execution_count": 6,
   "id": "3b4307ef-2dbe-465b-969c-2a82a82fa4b7",
   "metadata": {},
   "outputs": [],
   "source": [
    "for server in servers:\n",
    "    server.os_reboot()"
   ]
  },
  {
   "cell_type": "markdown",
   "id": "89dca51d-dd1a-48d3-b285-68727e56992c",
   "metadata": {
    "jp-MarkdownHeadingCollapsed": true,
    "tags": []
   },
   "source": [
    "## Get interfaces names\n",
    "In this step we will get the interface names so that we can assign IP addresses to them. Map the printed interface names to those seen in this figure:\n",
    "\n",
    "<img src=\"./labs_files/SYN/figs/07_getting_interfaces.png\" width=\"550\"><br>"
   ]
  },
  {
   "cell_type": "code",
   "execution_count": 11,
   "id": "3d3b0d19-c55b-43e5-98b1-cea0fccec6b7",
   "metadata": {},
   "outputs": [
    {
     "name": "stdout",
     "output_type": "stream",
     "text": [
      "server1_iface: enp7s0np0\n",
      "server2_iface1: enp7s0np0\n",
      "server2_iface2: enp8s0np1\n",
      "server3_iface: enp7s0np0\n"
     ]
    }
   ],
   "source": [
    "node1_iface = server1.get_interface(network_name='net1') \n",
    "server1_iface_name = node1_iface.get_device_name()#+'np0'\n",
    "print(f'server1_iface: {server1_iface_name}')\n",
    "\n",
    "node2_iface1 = server2.get_interface(network_name='net1') \n",
    "server2_iface1_name = node2_iface1.get_device_name()#+'np0'\n",
    "print(f'server2_iface1: {server2_iface1_name}')\n",
    "\n",
    "node2_iface2 = server2.get_interface(network_name='net2') \n",
    "server2_iface2_name = node2_iface2.get_device_name()#+'np1'\n",
    "server2_iface2_name=\"enp8s0np1\"\n",
    "print(f'server2_iface2: {server2_iface2_name}')\n",
    "\n",
    "node3_iface = server3.get_interface(network_name='net2') \n",
    "server3_iface_name = node3_iface.get_device_name()#+'np0'\n",
    "print(f'server3_iface: {server3_iface_name}')"
   ]
  },
  {
   "cell_type": "code",
   "execution_count": 12,
   "id": "c1b5b81d-0748-4469-9199-1b1ac166ae37",
   "metadata": {},
   "outputs": [],
   "source": [
    "stdout, stderr = server1.execute(f'sudo ip link set dev {server1_iface_name} up', quiet=True)\n",
    "stdout, stderr = server2.execute(f'sudo ip link set dev {server2_iface1_name} up', quiet=True)\n",
    "stdout, stderr = server2.execute(f'sudo ip link set dev {server2_iface2_name} up', quiet=True)\n",
    "stdout, stderr = server3.execute(f'sudo ip link set dev {server3_iface_name} up', quiet=True)"
   ]
  },
  {
   "cell_type": "code",
   "execution_count": 10,
   "id": "96f41fe4-6da1-4551-8de8-84125232595e",
   "metadata": {},
   "outputs": [],
   "source": [
    "server1_iface_MAC = '00:00:00:00:00:01'\n",
    "server2_iface1_MAC = '00:00:00:00:00:21'\n",
    "server2_iface2_MAC = '00:00:00:00:00:22'\n",
    "server3_iface_MAC = '00:00:00:00:00:03'"
   ]
  },
  {
   "cell_type": "code",
   "execution_count": 6,
   "id": "7340e2cc-f657-41ae-8b78-62c21afed741",
   "metadata": {},
   "outputs": [],
   "source": [
    "server1_server2_subnet = \"192.168.10.0/24\"\n",
    "server1_ip = '192.168.10.1/24'\n",
    "server2_1_ip = '192.168.10.2/24'\n",
    "\n",
    "stdout, stderr = server1.execute(f'sudo ifconfig {server1_iface_name} {server1_ip}')\n",
    "stdout, stderr = server2.execute(f'sudo ifconfig {server2_iface1_name} {server2_1_ip}')\n",
    "\n",
    "stdout, stderr = server1.execute(f'sudo ifconfig {server1_iface_name} hw ether {server1_iface_MAC}')\n",
    "stdout, stderr = server2.execute(f'sudo ifconfig {server2_iface1_name} hw ether {server2_iface1_MAC}')"
   ]
  },
  {
   "cell_type": "code",
   "execution_count": 8,
   "id": "af004767-ca84-41ca-9abf-b84e9385c81f",
   "metadata": {},
   "outputs": [],
   "source": [
    "server2_server3_subnet = \"192.168.20.0/24\"\n",
    "server2_2_ip = '192.168.20.2/24'\n",
    "server3_ip = '192.168.20.1/24'\n",
    "\n",
    "stdout, stderr = server2.execute(f'sudo ifconfig {server2_iface2_name} {server2_2_ip}')\n",
    "stdout, stderr = server3.execute(f'sudo ifconfig {server3_iface_name} {server3_ip}')\n",
    "\n",
    "stdout, stderr = server2.execute(f'sudo ifconfig {server2_iface2_name} hw ether {server2_iface2_MAC}')\n",
    "stdout, stderr = server3.execute(f'sudo ifconfig {server3_iface_name} hw ether {server3_iface_MAC}')"
   ]
  },
  {
   "cell_type": "code",
   "execution_count": 16,
   "id": "ac08f975-729c-4c80-aa58-9dcf8e5ef440",
   "metadata": {},
   "outputs": [],
   "source": [
    "stdout, stderr = server2.execute(f'sudo sysctl -w net.ipv4.ip_forward=1', quiet=True)"
   ]
  },
  {
   "cell_type": "code",
   "execution_count": 11,
   "id": "bd8a0c6f-7fc5-4711-9636-4d6cb4f1baba",
   "metadata": {},
   "outputs": [
    {
     "name": "stdout",
     "output_type": "stream",
     "text": [
      "\u001b[31m sudo: unable to resolve host server3: Name or service not known\n",
      " \u001b[0m\u001b[31m sudo: unable to resolve host server3: Name or service not known\n",
      " \u001b[0m"
     ]
    }
   ],
   "source": [
    "ip1 = server1_ip.split('/')[0]\n",
    "ip2_1 = server2_1_ip.split('/')[0]\n",
    "ip2_2 = server2_2_ip.split('/')[0]\n",
    "ip3 = server3_ip.split('/')[0]\n",
    "subnet1 = \"192.168.10.0/24\"\n",
    "subnet2 = \"192.168.20.0/24\"\n",
    "\n",
    "stdout, stderr = server1.execute(f'sudo arp -s {ip2_1} {server2_iface1_MAC}')\n",
    "stdout, stderr = server1.execute(f'sudo ip route add {subnet2} via {ip2_1}')\n",
    "\n",
    "stdout, stderr = server2.execute(f'sudo arp -s {ip1} {server1_iface_MAC}')\n",
    "stdout, stderr = server2.execute(f'sudo arp -s {ip3} {server3_iface_MAC}')\n",
    "\n",
    "stdout, stderr = server3.execute(f'sudo arp -s {ip2_2} {server2_iface2_MAC}')\n",
    "stdout, stderr = server3.execute(f'sudo ip route add {subnet1} via {ip2_2}')"
   ]
  },
  {
   "cell_type": "code",
   "execution_count": 18,
   "id": "95959918-3aa1-4fb9-9fc1-6b2cddd12130",
   "metadata": {},
   "outputs": [
    {
     "name": "stdout",
     "output_type": "stream",
     "text": [
      "mlx5_0 port 1 ==> enp7s0np0 (Up)\n",
      "mlx5_1 port 1 ==> enp8s0np1 (Down)\n",
      "\u001b[31m sudo: unable to resolve host server1: Name or service not known\n",
      " \u001b[0mmlx5_0 port 1 ==> enp7s0np0 (Up)\n",
      "mlx5_1 port 1 ==> enp8s0np1 (Up)\n",
      "\u001b[31m sudo: unable to resolve host server2: Name or service not known\n",
      " \u001b[0mmlx5_0 port 1 ==> enp7s0np0 (Up)\n",
      "mlx5_1 port 1 ==> enp8s0np1 (Down)\n",
      "\u001b[31m sudo: unable to resolve host server3: Name or service not known\n",
      " \u001b[0m"
     ]
    }
   ],
   "source": [
    "stdout, stderr = server1.execute(f'sudo ibdev2netdev')\n",
    "stdout, stderr = server1.execute(f'sudo mst status', quiet=True)\n",
    "stdout, stderr = server1.execute(f'sudo mst start', quiet=True)\n",
    "stdout, stderr = server1.execute(f'sudo mst status', quiet=True)\n",
    "\n",
    "stdout, stderr = server2.execute(f'sudo ibdev2netdev')\n",
    "stdout, stderr = server2.execute(f'sudo mst status', quiet=True)\n",
    "stdout, stderr = server2.execute(f'sudo mst start', quiet=True)\n",
    "stdout, stderr = server2.execute(f'sudo mst status', quiet=True)\n",
    "\n",
    "stdout, stderr = server3.execute(f'sudo ibdev2netdev')\n",
    "stdout, stderr = server3.execute(f'sudo mst status', quiet=True)\n",
    "stdout, stderr = server3.execute(f'sudo mst start', quiet=True)\n",
    "stdout, stderr = server3.execute(f'sudo mst status', quiet=True)"
   ]
  },
  {
   "cell_type": "markdown",
   "id": "61c0763e-784c-4d1e-ad19-d77ecc5b864d",
   "metadata": {},
   "source": [
    "# Get SSH"
   ]
  },
  {
   "cell_type": "code",
   "execution_count": 3,
   "id": "6d7e72f2-2111-486a-b079-6f5ee0e328a0",
   "metadata": {},
   "outputs": [
    {
     "data": {
      "text/plain": [
       "'ssh -i /home/fabric/work/fabric_config/slice_key -F /home/fabric/work/fabric_config/ssh_config ubuntu@2001:400:a100:3090:f816:3eff:fe7e:26b2'"
      ]
     },
     "execution_count": 3,
     "metadata": {},
     "output_type": "execute_result"
    }
   ],
   "source": [
    "server1.get_ssh_command()"
   ]
  },
  {
   "cell_type": "code",
   "execution_count": 4,
   "id": "d75c6d90-32b2-4845-b34a-c95682ad4f23",
   "metadata": {},
   "outputs": [
    {
     "data": {
      "text/plain": [
       "'ssh -i /home/fabric/work/fabric_config/slice_key -F /home/fabric/work/fabric_config/ssh_config ubuntu@2001:400:a100:3090:f816:3eff:fe22:a10'"
      ]
     },
     "execution_count": 4,
     "metadata": {},
     "output_type": "execute_result"
    }
   ],
   "source": [
    "server2.get_ssh_command()"
   ]
  },
  {
   "cell_type": "code",
   "execution_count": 5,
   "id": "a00f6479-b525-4ac4-b0ff-39437de2da16",
   "metadata": {},
   "outputs": [
    {
     "data": {
      "text/plain": [
       "'ssh -i /home/fabric/work/fabric_config/slice_key -F /home/fabric/work/fabric_config/ssh_config ubuntu@2001:400:a100:3090:f816:3eff:fe65:a42d'"
      ]
     },
     "execution_count": 5,
     "metadata": {},
     "output_type": "execute_result"
    }
   ],
   "source": [
    "server3.get_ssh_command()"
   ]
  },
  {
   "cell_type": "markdown",
   "id": "1b7cab7e-14e4-402d-91e1-73bedbd386d9",
   "metadata": {},
   "source": [
    "# Upload and Compile"
   ]
  },
  {
   "cell_type": "code",
   "execution_count": 6,
   "id": "5ab66bf2-349a-4f26-9a61-b1fefb7a9228",
   "metadata": {},
   "outputs": [],
   "source": [
    "threads = []\n",
    "\n",
    "for server in servers:\n",
    "    threads.append(server.execute_thread(f' sudo sh -c  \"echo 1024 > /sys/kernel/mm/hugepages/hugepages-2048kB/nr_hugepages\"'))\n",
    "\n",
    "for thread in threads:\n",
    "    thread.result()"
   ]
  },
  {
   "cell_type": "markdown",
   "id": "6cafe4cf-f63c-4c12-a4a3-35a7cc454f08",
   "metadata": {
    "jp-MarkdownHeadingCollapsed": true
   },
   "source": [
    "## Reflector"
   ]
  },
  {
   "cell_type": "code",
   "execution_count": 12,
   "id": "1b551543-8fb0-477a-a038-e935f2e94804",
   "metadata": {},
   "outputs": [
    {
     "name": "stdout",
     "output_type": "stream",
     "text": [
      "\u001b[31m sudo: unable to resolve host server2: Name or service not known\n",
      " \u001b[0m"
     ]
    }
   ],
   "source": [
    "server2.upload_file('experiments/reflector/reflector.p4','reflector.p4')\n",
    "stdout, stderr = server2.execute(f'sudo p4c-dpdk --arch=pna reflector.p4 -o reflector.spec')"
   ]
  },
  {
   "cell_type": "code",
   "execution_count": 16,
   "id": "669fc8a7-d84d-4bf1-b22a-fc6ba823f7d7",
   "metadata": {},
   "outputs": [
    {
     "data": {
      "text/plain": [
       "<SFTPAttributes: [ size=556 uid=1000 gid=1000 mode=0o100664 atime=1729096560 mtime=1729096560 ]>"
      ]
     },
     "execution_count": 16,
     "metadata": {},
     "output_type": "execute_result"
    }
   ],
   "source": [
    "server2.upload_file('experiments/reflector/ethdev0.io','ethdev0.io')\n",
    "server2.upload_file('experiments/reflector/reflector.cli','reflector.cli')"
   ]
  },
  {
   "cell_type": "markdown",
   "id": "65c3de87-26c3-47b2-9fe3-5c1429da4094",
   "metadata": {},
   "source": [
    "    cd dpdk\n",
    "    sudo examples/pipeline/build/pipeline -c 0x1F -- -s /home/ubuntu/reflector.cli"
   ]
  },
  {
   "cell_type": "code",
   "execution_count": 17,
   "id": "119e8310-c962-4440-863f-15b150a0e0df",
   "metadata": {},
   "outputs": [
    {
     "data": {
      "text/plain": [
       "'ssh -i /home/fabric/work/fabric_config/slice_key -F /home/fabric/work/fabric_config/ssh_config ubuntu@2001:18e8:fff0:3:f816:3eff:fe79:77b8'"
      ]
     },
     "execution_count": 17,
     "metadata": {},
     "output_type": "execute_result"
    }
   ],
   "source": [
    "server1.get_ssh_command()"
   ]
  },
  {
   "cell_type": "code",
   "execution_count": 57,
   "id": "e2452b58-8b01-405b-861f-118ba384dea1",
   "metadata": {},
   "outputs": [
    {
     "name": "stdout",
     "output_type": "stream",
     "text": [
      "07:00.0\n"
     ]
    }
   ],
   "source": [
    "stdout, stderr = server1.execute('lspci | grep ConnectX | awk \\'{print $1}\\'| head -n 1')"
   ]
  },
  {
   "cell_type": "markdown",
   "id": "3754e213-e91b-40f0-bd4b-8f86bbfa82ac",
   "metadata": {},
   "source": [
    "    sudo pktgen -l 0,1 -n 4 -a 07:00.0 -- -P -m \"1.0\"\n",
    "\n",
    "    set 0 src mac 00:00:00:00:00:01\n",
    "    set 0 dst mac 00:00:00:00:00:21\n",
    "    set 0 src ip 192.168.10.1/24\n",
    "    set 0 dst ip 192.168.10.2\n",
    "    set 0 size 1500"
   ]
  },
  {
   "cell_type": "code",
   "execution_count": 18,
   "id": "ddda69e4-aa23-499f-9b67-8d3cf2a43899",
   "metadata": {},
   "outputs": [
    {
     "data": {
      "text/plain": [
       "'ssh -i /home/fabric/work/fabric_config/slice_key -F /home/fabric/work/fabric_config/ssh_config ubuntu@2001:400:a100:3030:f816:3eff:fe8d:7886'"
      ]
     },
     "execution_count": 18,
     "metadata": {},
     "output_type": "execute_result"
    }
   ],
   "source": [
    "server3.get_ssh_command()"
   ]
  },
  {
   "cell_type": "code",
   "execution_count": 31,
   "id": "a821b257-378c-4d1d-99ae-b2dab5783e90",
   "metadata": {},
   "outputs": [
    {
     "name": "stdout",
     "output_type": "stream",
     "text": [
      "07:00.0\n"
     ]
    }
   ],
   "source": [
    "stdout, stderr = server3.execute('lspci | grep ConnectX | awk \\'{print $1}\\'| head -n 1')"
   ]
  },
  {
   "cell_type": "markdown",
   "id": "6deb79a6-41b9-49e1-9bff-11636b99bbc3",
   "metadata": {},
   "source": [
    "    sudo pktgen -l 0,1 -n 4 -a 07:00.0 -- -P -m \"1.0\"\n",
    "\n",
    "    set 0 src mac 00:00:00:00:00:03\n",
    "    set 0 dst mac 00:00:00:00:00:22\n",
    "    set 0 src ip 192.168.20.1/24\n",
    "    set 0 dst ip 192.168.20.2\n",
    "    set 0 size 1500"
   ]
  },
  {
   "cell_type": "markdown",
   "id": "529d5b75-bc94-4e41-96ee-c999575c6c80",
   "metadata": {
    "jp-MarkdownHeadingCollapsed": true
   },
   "source": [
    "## Heavy Hitter"
   ]
  },
  {
   "cell_type": "code",
   "execution_count": 29,
   "id": "827478b2-6f5f-4522-8677-4024dcb50091",
   "metadata": {},
   "outputs": [
    {
     "name": "stdout",
     "output_type": "stream",
     "text": [
      "\u001b[31m sudo: unable to resolve host server2: Name or service not known\n",
      " \u001b[0m"
     ]
    }
   ],
   "source": [
    "server2.upload_file('experiments/hh/hh.p4','hh.p4')\n",
    "stdout, stderr = server2.execute(f'sudo p4c-dpdk --arch=pna hh.p4 -o hh.spec')"
   ]
  },
  {
   "cell_type": "code",
   "execution_count": 8,
   "id": "a5b139ce-861e-44a8-bf0a-6a350a018d97",
   "metadata": {},
   "outputs": [
    {
     "data": {
      "text/plain": [
       "<SFTPAttributes: [ size=907 uid=1000 gid=1000 mode=0o100664 atime=1729192859 mtime=1729192860 ]>"
      ]
     },
     "execution_count": 8,
     "metadata": {},
     "output_type": "execute_result"
    }
   ],
   "source": [
    "server2.upload_file('experiments/hh/ethdev0.io','ethdev0.io')\n",
    "server2.upload_file('experiments/hh/ethdev1.io','ethdev1.io')\n",
    "server2.upload_file('experiments/hh/ethdev2.io','ethdev2.io')\n",
    "server2.upload_file('experiments/hh/ethdev3.io','ethdev3.io')\n",
    "server2.upload_file('experiments/hh/hh.cli','hh.cli')"
   ]
  },
  {
   "cell_type": "markdown",
   "id": "804c0791-c6e6-4564-a283-1e6c0afe56fc",
   "metadata": {},
   "source": [
    "    cd dpdk\n",
    "    sudo examples/pipeline/build/pipeline -c 0x1F -- -s /home/ubuntu/hh.cli"
   ]
  },
  {
   "cell_type": "code",
   "execution_count": 9,
   "id": "bd758a0b-558c-4114-b5a5-826a6057e856",
   "metadata": {},
   "outputs": [
    {
     "data": {
      "text/plain": [
       "'ssh -i /home/fabric/work/fabric_config/slice_key -F /home/fabric/work/fabric_config/ssh_config ubuntu@2001:400:a100:3080:f816:3eff:fe4f:3067'"
      ]
     },
     "execution_count": 9,
     "metadata": {},
     "output_type": "execute_result"
    }
   ],
   "source": [
    "server1.get_ssh_command()"
   ]
  },
  {
   "cell_type": "code",
   "execution_count": 10,
   "id": "f334239a-1111-4c74-ab68-1d484b8d0189",
   "metadata": {},
   "outputs": [
    {
     "name": "stdout",
     "output_type": "stream",
     "text": [
      "07:00.0\n"
     ]
    }
   ],
   "source": [
    "stdout, stderr = server1.execute('lspci | grep ConnectX | awk \\'{print $1}\\'| head -n 1')"
   ]
  },
  {
   "cell_type": "markdown",
   "id": "a64207d1-14b8-4237-bc64-7f64d60dba05",
   "metadata": {},
   "source": [
    "    sudo pktgen -l 0,1 -n 4 -a 07:00.0 -- -P -m \"1.0\"\n",
    "\n",
    "    page range\n",
    "\n",
    "    range 0 src mac start 00:00:00:00:00:01\n",
    "    range 0 src mac min 00:00:00:00:00:01\n",
    "    range 0 src mac max 00:00:00:00:00:01\n",
    "    \n",
    "    range 0 dst mac start 00:00:00:00:00:21\n",
    "    range 0 dst mac min 00:00:00:00:00:21\n",
    "    range 0 dst mac max 00:00:00:00:00:21\n",
    "    \n",
    "    range 0 src ip start 1.1.1.1\n",
    "    range 0 src ip min 1.1.1.1\n",
    "    range 0 src ip max 250.250.250.250\n",
    "    range 0 src ip inc 0.0.0.1\n",
    "    \n",
    "    range 0 dst ip start 1.1.1.1\n",
    "    range 0 dst ip min 1.1.1.1\n",
    "    range 0 dst ip max 250.250.250.250\n",
    "    range 0 dst ip inc 0.0.0.1\n",
    "    \n",
    "    range 0 size start 1500\n",
    "    range 0 size min 1500\n",
    "    range 0 size max 1500\n",
    "    range 0 size inc 0\n",
    "    \n",
    "    enable 0 range\n",
    "    page main"
   ]
  },
  {
   "cell_type": "code",
   "execution_count": 11,
   "id": "3470ca08-8284-47f7-8746-3cdb219592ff",
   "metadata": {},
   "outputs": [
    {
     "data": {
      "text/plain": [
       "'ssh -i /home/fabric/work/fabric_config/slice_key -F /home/fabric/work/fabric_config/ssh_config ubuntu@2001:400:a100:3080:f816:3eff:fef9:8841'"
      ]
     },
     "execution_count": 11,
     "metadata": {},
     "output_type": "execute_result"
    }
   ],
   "source": [
    "server3.get_ssh_command()"
   ]
  },
  {
   "cell_type": "code",
   "execution_count": 12,
   "id": "9efaf0ae-bc5a-4f3a-8ab8-3e157eeb9b27",
   "metadata": {},
   "outputs": [
    {
     "name": "stdout",
     "output_type": "stream",
     "text": [
      "07:00.0\n"
     ]
    }
   ],
   "source": [
    "stdout, stderr = server3.execute('lspci | grep ConnectX | awk \\'{print $1}\\'| head -n 1')"
   ]
  },
  {
   "cell_type": "markdown",
   "id": "adecc23f-ca5e-45d8-b998-f08c4909fa60",
   "metadata": {},
   "source": [
    "    sudo pktgen -l 0,1 -n 4 -a 07:00.0 -- -P -m \"1.0\"\n",
    "\n",
    "    set 0 src mac 00:00:00:00:00:03\n",
    "    set 0 dst mac 00:00:00:00:00:22\n",
    "    set 0 src ip 192.168.20.1/24\n",
    "    set 0 dst ip 192.168.20.2\n",
    "    set 0 size 1500\n",
    "    set 0 rate 1"
   ]
  },
  {
   "cell_type": "markdown",
   "id": "61f3239b-85cc-4b9f-bc5b-a14cf6588313",
   "metadata": {
    "jp-MarkdownHeadingCollapsed": true
   },
   "source": [
    "## SYN Flood"
   ]
  },
  {
   "cell_type": "code",
   "execution_count": 13,
   "id": "70d1c74f-5328-4b24-b105-464bf3d2dfaa",
   "metadata": {},
   "outputs": [
    {
     "name": "stdout",
     "output_type": "stream",
     "text": [
      "\u001b[31m sudo: unable to resolve host server2: Name or service not known\n",
      " \u001b[0m"
     ]
    }
   ],
   "source": [
    "server2.upload_file('experiments/syn/syn.p4','syn.p4')\n",
    "stdout, stderr = server2.execute(f'sudo p4c-dpdk --arch=pna syn.p4 -o syn.spec')"
   ]
  },
  {
   "cell_type": "code",
   "execution_count": 14,
   "id": "2f18971b-e021-4fba-a4e7-9d5e8cc7aa6d",
   "metadata": {},
   "outputs": [
    {
     "data": {
      "text/plain": [
       "<SFTPAttributes: [ size=1183 uid=1000 gid=1000 mode=0o100664 atime=1729194058 mtime=1729194058 ]>"
      ]
     },
     "execution_count": 14,
     "metadata": {},
     "output_type": "execute_result"
    }
   ],
   "source": [
    "server2.upload_file('experiments/syn/ethdev0.io','ethdev0.io')\n",
    "server2.upload_file('experiments/syn/ethdev1.io','ethdev1.io')\n",
    "server2.upload_file('experiments/syn/ethdev2.io','ethdev2.io')\n",
    "server2.upload_file('experiments/syn/ethdev3.io','ethdev3.io')\n",
    "server2.upload_file('experiments/syn/syn.cli','syn.cli')\n",
    "\n",
    "server2.upload_file('experiments/syn/rules.txt','rules.txt')\n",
    "server2.upload_file('experiments/syn/reset_SYN_packets_per_second.py','reset_SYN_packets_per_second.py')"
   ]
  },
  {
   "cell_type": "code",
   "execution_count": 15,
   "id": "c581f063-ff9c-40b8-96e3-124cfff2f66e",
   "metadata": {},
   "outputs": [
    {
     "data": {
      "text/plain": [
       "'ssh -i /home/fabric/work/fabric_config/slice_key -F /home/fabric/work/fabric_config/ssh_config ubuntu@2001:400:a100:3080:f816:3eff:fe30:337f'"
      ]
     },
     "execution_count": 15,
     "metadata": {},
     "output_type": "execute_result"
    }
   ],
   "source": [
    "server2.get_ssh_command()"
   ]
  },
  {
   "cell_type": "markdown",
   "id": "9de6cc93-4ece-4090-b329-f290822964e3",
   "metadata": {},
   "source": [
    "    cd dpdk\n",
    "    sudo examples/pipeline/build/pipeline -c 0x1F -- -s /home/ubuntu/syn.cli\n",
    "\n",
    "in a new terminal:\n",
    "    \n",
    "    sudo python3 reset_SYN_packets_per_second.py"
   ]
  },
  {
   "cell_type": "code",
   "execution_count": 9,
   "id": "3f20210f-21cc-49df-83b0-0cd41c4d6a03",
   "metadata": {},
   "outputs": [
    {
     "data": {
      "text/plain": [
       "'ssh -i /home/fabric/work/fabric_config/slice_key -F /home/fabric/work/fabric_config/ssh_config ubuntu@2001:400:a100:3080:f816:3eff:fe4f:3067'"
      ]
     },
     "execution_count": 9,
     "metadata": {},
     "output_type": "execute_result"
    }
   ],
   "source": [
    "server1.get_ssh_command()"
   ]
  },
  {
   "cell_type": "code",
   "execution_count": 10,
   "id": "6c97c860-d64e-4b72-9222-f8f3a062c59b",
   "metadata": {},
   "outputs": [
    {
     "name": "stdout",
     "output_type": "stream",
     "text": [
      "07:00.0\n"
     ]
    }
   ],
   "source": [
    "stdout, stderr = server1.execute('lspci | grep ConnectX | awk \\'{print $1}\\'| head -n 1')"
   ]
  },
  {
   "cell_type": "markdown",
   "id": "b27ee57e-c1e3-44a3-b38e-b1ad5a3f8866",
   "metadata": {},
   "source": [
    "    sudo pktgen -l 0,1 -n 4 -a 07:00.0 -- -P -m \"1.0\"\n",
    "\n",
    "    page range\n",
    "    \n",
    "    range 0 src mac start 00:00:00:00:00:01\n",
    "    range 0 src mac min 00:00:00:00:00:01\n",
    "    range 0 src mac max 00:00:00:00:00:01\n",
    "    \n",
    "    range 0 dst mac start 00:00:00:00:00:21\n",
    "    range 0 dst mac min 00:00:00:00:00:21\n",
    "    range 0 dst mac max 00:00:00:00:00:21\n",
    "    \n",
    "    range 0 src ip start 1.1.1.1\n",
    "    range 0 src ip min 1.1.1.1\n",
    "    range 0 src ip max 250.250.250.250\n",
    "    range 0 src ip inc 0.0.0.1\n",
    "    \n",
    "    range 0 dst ip start 192.168.20.1\n",
    "    range 0 dst ip min 192.168.20.1\n",
    "    range 0 dst ip max 192.168.20.1\n",
    "    \n",
    "    range 0 size start 1500\n",
    "    range 0 size min 1500\n",
    "    range 0 size max 1500\n",
    "    \n",
    "    range 0 tcp flag clr all\n",
    "    range 0 tcp flag set syn\n",
    "    \n",
    "    enable 0 range\n",
    "    page main"
   ]
  },
  {
   "cell_type": "code",
   "execution_count": 11,
   "id": "d75d61ab-cc27-494c-aa46-e98656e016c2",
   "metadata": {},
   "outputs": [
    {
     "data": {
      "text/plain": [
       "'ssh -i /home/fabric/work/fabric_config/slice_key -F /home/fabric/work/fabric_config/ssh_config ubuntu@2001:400:a100:3080:f816:3eff:fef9:8841'"
      ]
     },
     "execution_count": 11,
     "metadata": {},
     "output_type": "execute_result"
    }
   ],
   "source": [
    "server3.get_ssh_command()"
   ]
  },
  {
   "cell_type": "code",
   "execution_count": 12,
   "id": "aa825297-05ae-4053-a360-61919a4734de",
   "metadata": {},
   "outputs": [
    {
     "name": "stdout",
     "output_type": "stream",
     "text": [
      "07:00.0\n"
     ]
    }
   ],
   "source": [
    "stdout, stderr = server3.execute('lspci | grep ConnectX | awk \\'{print $1}\\'| head -n 1')"
   ]
  },
  {
   "cell_type": "markdown",
   "id": "74415340-c0f0-4e07-a2c3-18698922c998",
   "metadata": {},
   "source": [
    "    sudo pktgen -l 0,1 -n 4 -a 07:00.0 -- -P -m \"1.0\""
   ]
  },
  {
   "cell_type": "code",
   "execution_count": 16,
   "id": "ff9ce1cc-e08d-4dd2-89d3-e73971368f0e",
   "metadata": {},
   "outputs": [
    {
     "data": {
      "text/plain": [
       "'ssh -i /home/fabric/work/fabric_config/slice_key -F /home/fabric/work/fabric_config/ssh_config ubuntu@2001:400:a100:3080:f816:3eff:fe30:337f'"
      ]
     },
     "execution_count": 16,
     "metadata": {},
     "output_type": "execute_result"
    }
   ],
   "source": [
    "server2.get_ssh_command()"
   ]
  },
  {
   "cell_type": "markdown",
   "id": "261fe3e7-2173-4afd-9595-5d958a153f31",
   "metadata": {},
   "source": [
    "    telnet 0.0.0.0 8086\n",
    "\n",
    "    pipeline PIPELINE0 regwr drop_percent_reg_0 value 50 index 0\n",
    "    pipeline PIPELINE1 regwr drop_percent_reg_0 value 50 index 0\n",
    "    pipeline PIPELINE2 regwr drop_percent_reg_0 value 50 index 0\n",
    "    pipeline PIPELINE3 regwr drop_percent_reg_0 value 50 index 0\n",
    "    \n",
    "    pipeline PIPELINE0 regwr drop_percent_reg_0 value 100 index 0\n",
    "    pipeline PIPELINE1 regwr drop_percent_reg_0 value 100 index 0\n",
    "    pipeline PIPELINE2 regwr drop_percent_reg_0 value 100 index 0\n",
    "    pipeline PIPELINE3 regwr drop_percent_reg_0 value 100 index 0"
   ]
  },
  {
   "cell_type": "markdown",
   "id": "bf59691a-339d-4f98-8b43-5df76ea217db",
   "metadata": {
    "jp-MarkdownHeadingCollapsed": true
   },
   "source": [
    "## Interarrival Time"
   ]
  },
  {
   "cell_type": "code",
   "execution_count": 16,
   "id": "8d0597b1-b634-4e0a-a9c4-1c88fecec0db",
   "metadata": {},
   "outputs": [],
   "source": [
    "# stdout, stderr = server2.execute(f'cd dpdk/lib/pipeline/ &&  sudo rm rte_swx_pipeline.c && sudo rm rte_swx_pipeline_internal.h', quiet = True)\n",
    "# server2.upload_file('scripts/rte_swx_pipeline.c','/home/ubuntu/dpdk/lib/pipeline/rte_swx_pipeline.c')\n",
    "# server2.upload_file('scripts/rte_swx_pipeline_internal.h','/home/ubuntu/dpdk/lib/pipeline/rte_swx_pipeline_internal.h')\n",
    "# stdout, stderr = server2.execute(f'cd dpdk && cd build && sudo ninja && sudo ninja install && sudo ldconfig', quiet = True)"
   ]
  },
  {
   "cell_type": "code",
   "execution_count": 24,
   "id": "bc157def-d11f-4e1b-8937-ae6dc6f01337",
   "metadata": {},
   "outputs": [
    {
     "name": "stdout",
     "output_type": "stream",
     "text": [
      "\u001b[31m sudo: unable to resolve host server2: Name or service not known\n",
      " \u001b[0m"
     ]
    }
   ],
   "source": [
    "server2.upload_file('experiments/iat/iat.p4','iat.p4')\n",
    "stdout, stderr = server2.execute(f'sudo p4c-dpdk --arch=pna iat.p4 -o iat.spec')"
   ]
  },
  {
   "cell_type": "code",
   "execution_count": 25,
   "id": "766e1e3d-9b7f-4e4f-82d8-a84ff8d56715",
   "metadata": {},
   "outputs": [],
   "source": [
    "server2.download_file('experiments/iat/iat.spec','iat.spec')"
   ]
  },
  {
   "cell_type": "code",
   "execution_count": 26,
   "id": "1262a289-0456-408f-be64-8731fbc55bbc",
   "metadata": {},
   "outputs": [
    {
     "data": {
      "text/plain": [
       "<SFTPAttributes: [ size=112 uid=1000 gid=1000 mode=0o100664 atime=1729783507 mtime=1729809095 ]>"
      ]
     },
     "execution_count": 26,
     "metadata": {},
     "output_type": "execute_result"
    }
   ],
   "source": [
    "server2.upload_file('experiments/iat/ethdev0.io','ethdev0.io')\n",
    "# server2.upload_file('experiments/iat/ethdev1.io','ethdev1.io')\n",
    "# server2.upload_file('experiments/iat/ethdev2.io','ethdev2.io')\n",
    "# server2.upload_file('experiments/iat/ethdev3.io','ethdev3.io')\n",
    "server2.upload_file('experiments/iat/iat.cli','iat.cli')\n",
    "\n",
    "server2.upload_file('experiments/iat/rules.txt','rules.txt')"
   ]
  },
  {
   "cell_type": "code",
   "execution_count": 27,
   "id": "b77fc44b-e29c-454b-a96d-71e51aa1f7fc",
   "metadata": {},
   "outputs": [
    {
     "data": {
      "text/plain": [
       "<SFTPAttributes: [ size=3128 uid=1000 gid=1000 mode=0o100664 atime=1729803637 mtime=1729809102 ]>"
      ]
     },
     "execution_count": 27,
     "metadata": {},
     "output_type": "execute_result"
    }
   ],
   "source": [
    "server2.upload_file('experiments/iat/get_iat.py','get_iat.py')"
   ]
  },
  {
   "cell_type": "markdown",
   "id": "cfb3f97e-3376-4c65-8b50-b85e7fe018b4",
   "metadata": {},
   "source": [
    "    cd dpdk\n",
    "    sudo examples/pipeline/build/pipeline -c 0x1F -- -s /home/ubuntu/iat.cli\n",
    "    sudo python3 get_iat.py "
   ]
  },
  {
   "cell_type": "code",
   "execution_count": 28,
   "id": "e991af4f-ad81-409d-9d78-d8d564a5253b",
   "metadata": {},
   "outputs": [
    {
     "data": {
      "text/plain": [
       "'ssh -i /home/fabric/work/fabric_config/slice_key -F /home/fabric/work/fabric_config/ssh_config ubuntu@2001:400:a100:3080:f816:3eff:fef9:8841'"
      ]
     },
     "execution_count": 28,
     "metadata": {},
     "output_type": "execute_result"
    }
   ],
   "source": [
    "server3.get_ssh_command()"
   ]
  },
  {
   "cell_type": "markdown",
   "id": "ebc7021e-7e84-4e54-aff0-97dad621e078",
   "metadata": {},
   "source": [
    "    sudo ping 192.168.20.2 -i 1"
   ]
  },
  {
   "cell_type": "markdown",
   "id": "367aa414-8330-4435-af87-1e2a66cc0e0d",
   "metadata": {
    "jp-MarkdownHeadingCollapsed": true
   },
   "source": [
    "## Heavy Hitter and SYN Flood"
   ]
  },
  {
   "cell_type": "code",
   "execution_count": 29,
   "id": "f2e91afb-b85c-4680-9a59-c68d4b96a6a2",
   "metadata": {},
   "outputs": [
    {
     "ename": "FileNotFoundError",
     "evalue": "[Errno 2] No such file or directory: 'experiments/hh_syn/registers.p4'",
     "output_type": "error",
     "traceback": [
      "\u001b[0;31m---------------------------------------------------------------------------\u001b[0m",
      "\u001b[0;31mFileNotFoundError\u001b[0m                         Traceback (most recent call last)",
      "Cell \u001b[0;32mIn[29], line 3\u001b[0m\n\u001b[1;32m      1\u001b[0m server2\u001b[38;5;241m.\u001b[39mupload_file(\u001b[38;5;124m'\u001b[39m\u001b[38;5;124mexperiments/hh_syn/syn_flood.p4\u001b[39m\u001b[38;5;124m'\u001b[39m,\u001b[38;5;124m'\u001b[39m\u001b[38;5;124msyn_flood.p4\u001b[39m\u001b[38;5;124m'\u001b[39m)\n\u001b[1;32m      2\u001b[0m server2\u001b[38;5;241m.\u001b[39mupload_file(\u001b[38;5;124m'\u001b[39m\u001b[38;5;124mexperiments/hh_syn/hh_syn.p4\u001b[39m\u001b[38;5;124m'\u001b[39m,\u001b[38;5;124m'\u001b[39m\u001b[38;5;124mhh_syn.p4\u001b[39m\u001b[38;5;124m'\u001b[39m)\n\u001b[0;32m----> 3\u001b[0m \u001b[43mserver2\u001b[49m\u001b[38;5;241;43m.\u001b[39;49m\u001b[43mupload_file\u001b[49m\u001b[43m(\u001b[49m\u001b[38;5;124;43m'\u001b[39;49m\u001b[38;5;124;43mexperiments/hh_syn/registers.p4\u001b[39;49m\u001b[38;5;124;43m'\u001b[39;49m\u001b[43m,\u001b[49m\u001b[38;5;124;43m'\u001b[39;49m\u001b[38;5;124;43mregisters.p4\u001b[39;49m\u001b[38;5;124;43m'\u001b[39;49m\u001b[43m)\u001b[49m\n\u001b[1;32m      4\u001b[0m server2\u001b[38;5;241m.\u001b[39mupload_file(\u001b[38;5;124m'\u001b[39m\u001b[38;5;124mexperiments/hh_syn/headers.p4\u001b[39m\u001b[38;5;124m'\u001b[39m,\u001b[38;5;124m'\u001b[39m\u001b[38;5;124mheaders.p4\u001b[39m\u001b[38;5;124m'\u001b[39m)\n\u001b[1;32m      5\u001b[0m stdout, stderr \u001b[38;5;241m=\u001b[39m server2\u001b[38;5;241m.\u001b[39mexecute(\u001b[38;5;124mf\u001b[39m\u001b[38;5;124m'\u001b[39m\u001b[38;5;124msudo p4c-dpdk --arch=pna hh_syn.p4 -o hh_syn.spec\u001b[39m\u001b[38;5;124m'\u001b[39m)\n",
      "File \u001b[0;32m/opt/conda/lib/python3.11/site-packages/fabrictestbed_extensions/fablib/node.py:1837\u001b[0m, in \u001b[0;36mNode.upload_file\u001b[0;34m(self, local_file_path, remote_file_path, retry, retry_interval)\u001b[0m\n\u001b[1;32m   1834\u001b[0m logging\u001b[38;5;241m.\u001b[39mwarning(\u001b[38;5;124mf\u001b[39m\u001b[38;5;124m\"\u001b[39m\u001b[38;5;124mException on upload_file() attempt #\u001b[39m\u001b[38;5;132;01m{\u001b[39;00mattempt\u001b[38;5;132;01m}\u001b[39;00m\u001b[38;5;124m: \u001b[39m\u001b[38;5;132;01m{\u001b[39;00me\u001b[38;5;132;01m}\u001b[39;00m\u001b[38;5;124m\"\u001b[39m)\n\u001b[1;32m   1836\u001b[0m \u001b[38;5;28;01mif\u001b[39;00m attempt \u001b[38;5;241m+\u001b[39m \u001b[38;5;241m1\u001b[39m \u001b[38;5;241m==\u001b[39m retry:\n\u001b[0;32m-> 1837\u001b[0m     \u001b[38;5;28;01mraise\u001b[39;00m e\n\u001b[1;32m   1839\u001b[0m \u001b[38;5;66;03m# Fail, try again\u001b[39;00m\n\u001b[1;32m   1840\u001b[0m logging\u001b[38;5;241m.\u001b[39mwarning(\n\u001b[1;32m   1841\u001b[0m     \u001b[38;5;124mf\u001b[39m\u001b[38;5;124m\"\u001b[39m\u001b[38;5;124mSCP upload fail. Slice: \u001b[39m\u001b[38;5;132;01m{\u001b[39;00m\u001b[38;5;28mself\u001b[39m\u001b[38;5;241m.\u001b[39mget_slice()\u001b[38;5;241m.\u001b[39mget_name()\u001b[38;5;132;01m}\u001b[39;00m\u001b[38;5;124m, Node: \u001b[39m\u001b[38;5;132;01m{\u001b[39;00m\u001b[38;5;28mself\u001b[39m\u001b[38;5;241m.\u001b[39mget_name()\u001b[38;5;132;01m}\u001b[39;00m\u001b[38;5;124m, trying again. Exception: \u001b[39m\u001b[38;5;132;01m{\u001b[39;00me\u001b[38;5;132;01m}\u001b[39;00m\u001b[38;5;124m\"\u001b[39m\n\u001b[1;32m   1842\u001b[0m )\n",
      "File \u001b[0;32m/opt/conda/lib/python3.11/site-packages/fabrictestbed_extensions/fablib/node.py:1822\u001b[0m, in \u001b[0;36mNode.upload_file\u001b[0;34m(self, local_file_path, remote_file_path, retry, retry_interval)\u001b[0m\n\u001b[1;32m   1814\u001b[0m client\u001b[38;5;241m.\u001b[39mconnect(\n\u001b[1;32m   1815\u001b[0m     management_ip,\n\u001b[1;32m   1816\u001b[0m     username\u001b[38;5;241m=\u001b[39m\u001b[38;5;28mself\u001b[39m\u001b[38;5;241m.\u001b[39musername,\n\u001b[1;32m   1817\u001b[0m     pkey\u001b[38;5;241m=\u001b[39mkey,\n\u001b[1;32m   1818\u001b[0m     sock\u001b[38;5;241m=\u001b[39mbastion_channel,\n\u001b[1;32m   1819\u001b[0m )\n\u001b[1;32m   1821\u001b[0m ftp_client \u001b[38;5;241m=\u001b[39m client\u001b[38;5;241m.\u001b[39mopen_sftp()\n\u001b[0;32m-> 1822\u001b[0m file_attributes \u001b[38;5;241m=\u001b[39m \u001b[43mftp_client\u001b[49m\u001b[38;5;241;43m.\u001b[39;49m\u001b[43mput\u001b[49m\u001b[43m(\u001b[49m\u001b[43mlocal_file_path\u001b[49m\u001b[43m,\u001b[49m\u001b[43m \u001b[49m\u001b[43mremote_file_path\u001b[49m\u001b[43m)\u001b[49m\n\u001b[1;32m   1824\u001b[0m \u001b[38;5;28;01mif\u001b[39;00m \u001b[38;5;28mself\u001b[39m\u001b[38;5;241m.\u001b[39mget_fablib_manager()\u001b[38;5;241m.\u001b[39mget_log_level() \u001b[38;5;241m==\u001b[39m logging\u001b[38;5;241m.\u001b[39mDEBUG:\n\u001b[1;32m   1825\u001b[0m     end \u001b[38;5;241m=\u001b[39m time\u001b[38;5;241m.\u001b[39mtime()\n",
      "File \u001b[0;32m/opt/conda/lib/python3.11/site-packages/paramiko/sftp_client.py:757\u001b[0m, in \u001b[0;36mSFTPClient.put\u001b[0;34m(self, localpath, remotepath, callback, confirm)\u001b[0m\n\u001b[1;32m    729\u001b[0m \u001b[38;5;28;01mdef\u001b[39;00m \u001b[38;5;21mput\u001b[39m(\u001b[38;5;28mself\u001b[39m, localpath, remotepath, callback\u001b[38;5;241m=\u001b[39m\u001b[38;5;28;01mNone\u001b[39;00m, confirm\u001b[38;5;241m=\u001b[39m\u001b[38;5;28;01mTrue\u001b[39;00m):\n\u001b[1;32m    730\u001b[0m \u001b[38;5;250m    \u001b[39m\u001b[38;5;124;03m\"\"\"\u001b[39;00m\n\u001b[1;32m    731\u001b[0m \u001b[38;5;124;03m    Copy a local file (``localpath``) to the SFTP server as ``remotepath``.\u001b[39;00m\n\u001b[1;32m    732\u001b[0m \u001b[38;5;124;03m    Any exception raised by operations will be passed through.  This\u001b[39;00m\n\u001b[0;32m   (...)\u001b[0m\n\u001b[1;32m    755\u001b[0m \u001b[38;5;124;03m        ``confirm`` param added.\u001b[39;00m\n\u001b[1;32m    756\u001b[0m \u001b[38;5;124;03m    \"\"\"\u001b[39;00m\n\u001b[0;32m--> 757\u001b[0m     file_size \u001b[38;5;241m=\u001b[39m os\u001b[38;5;241m.\u001b[39mstat(localpath)\u001b[38;5;241m.\u001b[39mst_size\n\u001b[1;32m    758\u001b[0m     \u001b[38;5;28;01mwith\u001b[39;00m \u001b[38;5;28mopen\u001b[39m(localpath, \u001b[38;5;124m\"\u001b[39m\u001b[38;5;124mrb\u001b[39m\u001b[38;5;124m\"\u001b[39m) \u001b[38;5;28;01mas\u001b[39;00m fl:\n\u001b[1;32m    759\u001b[0m         \u001b[38;5;28;01mreturn\u001b[39;00m \u001b[38;5;28mself\u001b[39m\u001b[38;5;241m.\u001b[39mputfo(fl, remotepath, file_size, callback, confirm)\n",
      "\u001b[0;31mFileNotFoundError\u001b[0m: [Errno 2] No such file or directory: 'experiments/hh_syn/registers.p4'"
     ]
    }
   ],
   "source": [
    "server2.upload_file('experiments/hh_syn/syn_flood.p4','syn_flood.p4')\n",
    "server2.upload_file('experiments/hh_syn/hh_syn.p4','hh_syn.p4')\n",
    "server2.upload_file('experiments/hh_syn/registers.p4','registers.p4')\n",
    "server2.upload_file('experiments/hh_syn/headers.p4','headers.p4')\n",
    "stdout, stderr = server2.execute(f'sudo p4c-dpdk --arch=pna hh_syn.p4 -o hh_syn.spec')"
   ]
  },
  {
   "cell_type": "code",
   "execution_count": 34,
   "id": "700eb390-3f2e-4d26-a03e-436bf91a87c4",
   "metadata": {},
   "outputs": [
    {
     "name": "stdout",
     "output_type": "stream",
     "text": [
      "\u001b[31m sudo: unable to resolve host server2: Name or service not known\n",
      " \u001b[0m"
     ]
    }
   ],
   "source": [
    "server2.upload_file('experiments/hh_syn/hh_syn.p4','hh_syn.p4')\n",
    "stdout, stderr = server2.execute(f'sudo p4c-dpdk --arch=pna hh_syn.p4 -o hh_syn.spec')"
   ]
  },
  {
   "cell_type": "code",
   "execution_count": 31,
   "id": "59b36c45-4a06-487a-b1b9-9157a81478a1",
   "metadata": {},
   "outputs": [
    {
     "data": {
      "text/plain": [
       "<SFTPAttributes: [ size=112 uid=1000 gid=1000 mode=0o100664 atime=1729809127 mtime=1729864763 ]>"
      ]
     },
     "execution_count": 31,
     "metadata": {},
     "output_type": "execute_result"
    }
   ],
   "source": [
    "server2.upload_file('experiments/hh_syn/ethdev0.io','ethdev0.io')\n",
    "server2.upload_file('experiments/hh_syn/ethdev1.io','ethdev1.io')\n",
    "server2.upload_file('experiments/hh_syn/ethdev2.io','ethdev2.io')\n",
    "server2.upload_file('experiments/hh_syn/ethdev3.io','ethdev3.io')\n",
    "server2.upload_file('experiments/hh_syn/hh_syn.cli','hh_syn.cli')\n",
    "\n",
    "server2.upload_file('experiments/hh_syn/rules.txt','rules.txt')"
   ]
  },
  {
   "cell_type": "markdown",
   "id": "13a332bb-5377-4c81-8f3d-246fd4d8e652",
   "metadata": {},
   "source": [
    "    cd dpdk\n",
    "    sudo examples/pipeline/build/pipeline -c 0x1F -- -s /home/ubuntu/hh_syn.cli"
   ]
  },
  {
   "cell_type": "code",
   "execution_count": 32,
   "id": "ab3b1445-9a8a-484d-9641-9b150cdb3aa7",
   "metadata": {},
   "outputs": [
    {
     "data": {
      "text/plain": [
       "'ssh -i /home/fabric/work/fabric_config/slice_key -F /home/fabric/work/fabric_config/ssh_config ubuntu@2001:400:a100:3080:f816:3eff:fe4f:3067'"
      ]
     },
     "execution_count": 32,
     "metadata": {},
     "output_type": "execute_result"
    }
   ],
   "source": [
    "server1.get_ssh_command()"
   ]
  },
  {
   "cell_type": "code",
   "execution_count": 10,
   "id": "beca664a-7d6f-4ca7-81be-07ea85b6c961",
   "metadata": {},
   "outputs": [
    {
     "name": "stdout",
     "output_type": "stream",
     "text": [
      "07:00.0\n"
     ]
    }
   ],
   "source": [
    "stdout, stderr = server1.execute('lspci | grep ConnectX | awk \\'{print $1}\\'| head -n 1')"
   ]
  },
  {
   "cell_type": "markdown",
   "id": "d7c39631-733a-45bb-a441-8a2dd5ba024c",
   "metadata": {},
   "source": [
    "    sudo pktgen -l 0,1 -n 4 -a 07:00.0 -- -P -m \"1.0\"\n",
    "\n",
    "    page range\n",
    "\n",
    "    range 0 src mac start 00:00:00:00:00:01\n",
    "    range 0 src mac min 00:00:00:00:00:01\n",
    "    range 0 src mac max 00:00:00:00:00:01\n",
    "    \n",
    "    range 0 dst mac start 00:00:00:00:00:21\n",
    "    range 0 dst mac min 00:00:00:00:00:21\n",
    "    range 0 dst mac max 00:00:00:00:00:21\n",
    "    \n",
    "    range 0 src ip start 1.1.1.1\n",
    "    range 0 src ip min 1.1.1.1\n",
    "    range 0 src ip max 250.250.250.250\n",
    "    range 0 src ip inc 0.0.0.1\n",
    "    \n",
    "    range 0 dst ip start 192.168.20.1\n",
    "    range 0 dst ip min 192.168.20.1\n",
    "    range 0 dst ip max 192.168.20.1\n",
    "    \n",
    "    range 0 size start 1500\n",
    "    range 0 size min 1500\n",
    "    range 0 size max 1500\n",
    "\n",
    "    range 0 tcp flag clr all\n",
    "    range 0 tcp flag set syn\n",
    "    \n",
    "    enable 0 range\n",
    "    page main\n",
    "    "
   ]
  },
  {
   "cell_type": "code",
   "execution_count": 33,
   "id": "d13ec65e-b699-477c-ab92-a0301fba135b",
   "metadata": {},
   "outputs": [
    {
     "data": {
      "text/plain": [
       "'ssh -i /home/fabric/work/fabric_config/slice_key -F /home/fabric/work/fabric_config/ssh_config ubuntu@2001:400:a100:3080:f816:3eff:fef9:8841'"
      ]
     },
     "execution_count": 33,
     "metadata": {},
     "output_type": "execute_result"
    }
   ],
   "source": [
    "server3.get_ssh_command()"
   ]
  },
  {
   "cell_type": "code",
   "execution_count": 12,
   "id": "ab236abf-5853-4481-98fd-8d3adf0565bb",
   "metadata": {},
   "outputs": [
    {
     "name": "stdout",
     "output_type": "stream",
     "text": [
      "07:00.0\n"
     ]
    }
   ],
   "source": [
    "stdout, stderr = server3.execute('lspci | grep ConnectX | awk \\'{print $1}\\'| head -n 1')"
   ]
  },
  {
   "cell_type": "markdown",
   "id": "25bdc685-5ffa-4cba-89e9-f9776ff3c783",
   "metadata": {},
   "source": [
    "    sudo pktgen -l 0,1 -n 4 -a 07:00.0 -- -P -m \"1.0\"\n",
    "\n",
    "    set 0 src mac 00:00:00:00:00:03\n",
    "    set 0 dst mac 00:00:00:00:00:22\n",
    "    set 0 src ip 192.168.20.1/24\n",
    "    set 0 dst ip 192.168.10.1\n",
    "    set 0 size 1500\n",
    "    set 0 rate 0.5"
   ]
  },
  {
   "cell_type": "markdown",
   "id": "1a8218b8-0000-4f2b-95e0-f404da3128a8",
   "metadata": {
    "jp-MarkdownHeadingCollapsed": true
   },
   "source": [
    "## SYN-ACK Flood"
   ]
  },
  {
   "cell_type": "code",
   "execution_count": 18,
   "id": "7c5f605e-44d4-4176-8a2e-29cc63e81014",
   "metadata": {},
   "outputs": [
    {
     "name": "stdout",
     "output_type": "stream",
     "text": [
      "\u001b[31m sudo: unable to resolve host server2: Name or service not known\n",
      " \u001b[0m"
     ]
    }
   ],
   "source": [
    "server2.upload_file('experiments/syn_ack/syn_ack.p4','syn_ack.p4')\n",
    "stdout, stderr = server2.execute(f'sudo p4c-dpdk --arch=pna syn_ack.p4 -o syn_ack.spec')"
   ]
  },
  {
   "cell_type": "code",
   "execution_count": 7,
   "id": "4b1fc94e-0509-4eb8-b9cd-ca8fbcec058f",
   "metadata": {},
   "outputs": [
    {
     "data": {
      "text/plain": [
       "<SFTPAttributes: [ size=112 uid=1000 gid=1000 mode=0o100664 atime=1730129558 mtime=1730129765 ]>"
      ]
     },
     "execution_count": 7,
     "metadata": {},
     "output_type": "execute_result"
    }
   ],
   "source": [
    "server2.upload_file('experiments/syn_ack/ethdev0.io','ethdev0.io')\n",
    "server2.upload_file('experiments/syn_ack/ethdev1.io','ethdev1.io')\n",
    "server2.upload_file('experiments/syn_ack/ethdev2.io','ethdev2.io')\n",
    "server2.upload_file('experiments/syn_ack/ethdev3.io','ethdev3.io')\n",
    "server2.upload_file('experiments/syn_ack/syn_ack.cli','syn_ack.cli')\n",
    "\n",
    "server2.upload_file('experiments/syn_ack/rules.txt','rules.txt')"
   ]
  },
  {
   "cell_type": "code",
   "execution_count": 15,
   "id": "3e454e4e-892b-45f8-abf8-fbcce623542a",
   "metadata": {},
   "outputs": [
    {
     "data": {
      "text/plain": [
       "'ssh -i /home/fabric/work/fabric_config/slice_key -F /home/fabric/work/fabric_config/ssh_config ubuntu@2001:400:a100:3080:f816:3eff:fe30:337f'"
      ]
     },
     "execution_count": 15,
     "metadata": {},
     "output_type": "execute_result"
    }
   ],
   "source": [
    "server2.get_ssh_command()"
   ]
  },
  {
   "cell_type": "markdown",
   "id": "af2fabca-933a-4822-baf0-d1553cc2893a",
   "metadata": {},
   "source": [
    "    cd dpdk\n",
    "    sudo examples/pipeline/build/pipeline -c 0x1F -- -s /home/ubuntu/syn_ack.cli"
   ]
  },
  {
   "cell_type": "code",
   "execution_count": 9,
   "id": "3298631f-adb8-47ad-b92d-1117b29163dc",
   "metadata": {},
   "outputs": [
    {
     "data": {
      "text/plain": [
       "'ssh -i /home/fabric/work/fabric_config/slice_key -F /home/fabric/work/fabric_config/ssh_config ubuntu@2001:400:a100:3080:f816:3eff:fe4f:3067'"
      ]
     },
     "execution_count": 9,
     "metadata": {},
     "output_type": "execute_result"
    }
   ],
   "source": [
    "server1.get_ssh_command()"
   ]
  },
  {
   "cell_type": "code",
   "execution_count": 10,
   "id": "173b71cd-df14-45f5-b8bb-59b712a4e79b",
   "metadata": {},
   "outputs": [
    {
     "name": "stdout",
     "output_type": "stream",
     "text": [
      "07:00.0\n"
     ]
    }
   ],
   "source": [
    "stdout, stderr = server1.execute('lspci | grep ConnectX | awk \\'{print $1}\\'| head -n 1')"
   ]
  },
  {
   "cell_type": "markdown",
   "id": "6d1a50f3-6733-4ef1-8a8f-935c6e281402",
   "metadata": {},
   "source": [
    "    sudo pktgen -l 0,1 -n 4 -a 07:00.0 -- -P -m \"1.0\"\n",
    "    \n",
    "    page range\n",
    "\n",
    "    range 0 src mac start 00:00:00:00:00:01\n",
    "    range 0 src mac min 00:00:00:00:00:01\n",
    "    range 0 src mac max 00:00:00:00:00:01\n",
    "    \n",
    "    range 0 dst mac start 00:00:00:00:00:21\n",
    "    range 0 dst mac min 00:00:00:00:00:21\n",
    "    range 0 dst mac max 00:00:00:00:00:21\n",
    "    \n",
    "    range 0 src ip start 1.1.1.1\n",
    "    range 0 src ip min 1.1.1.1\n",
    "    range 0 src ip max 250.250.250.250\n",
    "    range 0 src ip inc 0.0.0.1\n",
    "    \n",
    "    range 0 dst ip start 192.168.20.1\n",
    "    range 0 dst ip min 192.168.20.1\n",
    "    range 0 dst ip max 192.168.20.1\n",
    "    \n",
    "    range 0 size start 1500\n",
    "    range 0 size min 1500\n",
    "    range 0 size max 1500\n",
    "    \n",
    "    range 0 tcp flag clr all\n",
    "    range 0 tcp flag set syn\n",
    "    range 0 tcp flag set ack\n",
    "    \n",
    "    enable 0 range\n",
    "    page main"
   ]
  },
  {
   "cell_type": "markdown",
   "id": "becae6db-3ae5-44ea-96ac-b6da5f87e161",
   "metadata": {
    "jp-MarkdownHeadingCollapsed": true
   },
   "source": [
    "## CMS"
   ]
  },
  {
   "cell_type": "code",
   "execution_count": 14,
   "id": "cb9581aa-4db3-4cbd-8de8-16ff2e4fd45c",
   "metadata": {},
   "outputs": [
    {
     "name": "stdout",
     "output_type": "stream",
     "text": [
      "\u001b[31m sudo: unable to resolve host server2: Name or service not known\n",
      " \u001b[0m"
     ]
    }
   ],
   "source": [
    "server2.upload_file('main/scripts/cms_optimal.p4','main/cms_optimal.p4')\n",
    "stdout, stderr = server2.execute(f'cd main && sudo p4c-dpdk --arch=pna cms_optimal.p4 -o cms_optimal.spec')"
   ]
  },
  {
   "cell_type": "markdown",
   "id": "a0423b16-c927-48ec-a577-f538e9e28587",
   "metadata": {
    "jp-MarkdownHeadingCollapsed": true
   },
   "source": [
    "## MAIN"
   ]
  },
  {
   "cell_type": "code",
   "execution_count": 7,
   "id": "6d56b479-4f71-4c10-af00-041b617ec10b",
   "metadata": {},
   "outputs": [],
   "source": [
    "stdout, stderr = server2.execute(f'mkdir main')"
   ]
  },
  {
   "cell_type": "code",
   "execution_count": 67,
   "id": "98abca69-4703-4060-9985-ca2290449b15",
   "metadata": {},
   "outputs": [
    {
     "name": "stdout",
     "output_type": "stream",
     "text": [
      "\u001b[31m sudo: unable to resolve host server2: Name or service not known\n",
      "registers.p4(6): [--Wwarn=unused] warning: reg_state_ts: unused instance\n",
      "    Register<bit<2>, bit<1>>(1) reg_state_ts;\n",
      "                                ^^^^^^^^^^^^\n",
      "registers.p4(7): [--Wwarn=unused] warning: reg_timestamp1: unused instance\n",
      "    Register<bit<32>, bit<1>>(1) reg_timestamp1;\n",
      "                                 ^^^^^^^^^^^^^^\n",
      "registers.p4(8): [--Wwarn=unused] warning: reg_timestamp2: unused instance\n",
      "    Register<bit<32>, bit<1>>(1) reg_timestamp2;\n",
      "                                 ^^^^^^^^^^^^^^\n",
      "registers.p4(9): [--Wwarn=unused] warning: reg_timestamp3: unused instance\n",
      "    Register<bit<32>, bit<1>>(1) reg_timestamp3;\n",
      "                                 ^^^^^^^^^^^^^^\n",
      " \u001b[0m"
     ]
    }
   ],
   "source": [
    "# server2.upload_file('main/ack_flood.p4','main/ack_flood.p4')\n",
    "server2.upload_file('main/control.p4','main/control.p4')\n",
    "# server2.upload_file('main/deparser.p4','main/deparser.p4')\n",
    "# server2.upload_file('main/fin_flood.p4','main/fin_flood.p4')\n",
    "# server2.upload_file('main/get_icmp_flow.p4','main/get_icmp_flow.p4')\n",
    "# server2.upload_file('main/get_tcp_flow.p4','main/get_tcp_flow.p4')\n",
    "server2.upload_file('main/headers.p4','main/headers.p4')\n",
    "# server2.upload_file('main/heavy_hitter.p4','main/heavy_hitter.p4')\n",
    "# server2.upload_file('main/icmp_flood.p4','main/icmp_flood.p4')\n",
    "# server2.upload_file('main/main.p4','main/main.p4')\n",
    "# server2.upload_file('main/parser.p4','main/parser.p4')\n",
    "# server2.upload_file('main/registers.p4','main/registers.p4')\n",
    "# server2.upload_file('main/syn_ack_flood.p4','main/syn_ack_flood.p4')\n",
    "# server2.upload_file('main/syn_flood.p4','main/syn_flood.p4')\n",
    "server2.upload_file('main/udp_flood.p4','main/udp_flood.p4')\n",
    "stdout, stderr = server2.execute(f'cd main && sudo p4c-dpdk --arch=pna main.p4 -o main.spec')"
   ]
  },
  {
   "cell_type": "code",
   "execution_count": 8,
   "id": "a803cbbb-3581-4722-9206-fa3d6865b856",
   "metadata": {},
   "outputs": [
    {
     "name": "stdout",
     "output_type": "stream",
     "text": [
      "\u001b[31m sudo: unable to resolve host server2: Name or service not known\n",
      "registers.p4(6): [--Wwarn=unused] warning: reg_state_ts: unused instance\n",
      "    Register<bit<2>, bit<1>>(1) reg_state_ts;\n",
      "                                ^^^^^^^^^^^^\n",
      "registers.p4(7): [--Wwarn=unused] warning: reg_timestamp1: unused instance\n",
      "    Register<bit<32>, bit<1>>(1) reg_timestamp1;\n",
      "                                 ^^^^^^^^^^^^^^\n",
      "registers.p4(8): [--Wwarn=unused] warning: reg_timestamp2: unused instance\n",
      "    Register<bit<32>, bit<1>>(1) reg_timestamp2;\n",
      "                                 ^^^^^^^^^^^^^^\n",
      "registers.p4(9): [--Wwarn=unused] warning: reg_timestamp3: unused instance\n",
      "    Register<bit<32>, bit<1>>(1) reg_timestamp3;\n",
      "                                 ^^^^^^^^^^^^^^\n",
      " \u001b[0m"
     ]
    }
   ],
   "source": [
    "server2.upload_file('main_sec/ack_flood.p4','main/ack_flood.p4')\n",
    "server2.upload_file('main_sec/control.p4','main/control.p4')\n",
    "server2.upload_file('main_sec/deparser.p4','main/deparser.p4')\n",
    "server2.upload_file('main_sec/fin_flood.p4','main/fin_flood.p4')\n",
    "server2.upload_file('main_sec/get_icmp_flow.p4','main/get_icmp_flow.p4')\n",
    "server2.upload_file('main_sec/get_tcp_flow.p4','main/get_tcp_flow.p4')\n",
    "server2.upload_file('main_sec/headers.p4','main/headers.p4')\n",
    "server2.upload_file('main_sec/heavy_hitter.p4','main/heavy_hitter.p4')\n",
    "server2.upload_file('main_sec/icmp_flood.p4','main/icmp_flood.p4')\n",
    "server2.upload_file('main_sec/main.p4','main/main.p4')\n",
    "server2.upload_file('main_sec/parser.p4','main/parser.p4')\n",
    "server2.upload_file('main_sec/registers.p4','main/registers.p4')\n",
    "server2.upload_file('main_sec/syn_ack_flood.p4','main/syn_ack_flood.p4')\n",
    "server2.upload_file('main_sec/syn_flood.p4','main/syn_flood.p4')\n",
    "server2.upload_file('main_sec/udp_flood.p4','main/udp_flood.p4')\n",
    "stdout, stderr = server2.execute(f'cd main && sudo p4c-dpdk --arch=pna main.p4 -o main.spec')"
   ]
  },
  {
   "cell_type": "code",
   "execution_count": 9,
   "id": "4710e5de-ab46-4c01-9348-ea2cea276062",
   "metadata": {},
   "outputs": [
    {
     "data": {
      "text/plain": [
       "<SFTPAttributes: [ size=1349 uid=1000 gid=1000 mode=0o100664 atime=1737322072 mtime=1737322072 ]>"
      ]
     },
     "execution_count": 9,
     "metadata": {},
     "output_type": "execute_result"
    }
   ],
   "source": [
    "server2.upload_file('main/scripts/rules.txt','main/rules.txt')\n",
    "server2.upload_file('main/scripts/ethdev0.io','main/ethdev0.io')\n",
    "server2.upload_file('main/scripts/ethdev1.io','main/ethdev1.io')\n",
    "server2.upload_file('main/scripts/ethdev2.io','main/ethdev2.io')\n",
    "server2.upload_file('main/scripts/ethdev3.io','main/ethdev3.io')\n",
    "server2.upload_file('main/scripts/main.cli','main/main.cli')"
   ]
  },
  {
   "cell_type": "markdown",
   "id": "8ca845b3-864e-438f-967f-9410369d9a2f",
   "metadata": {},
   "source": [
    "    cd dpdk\n",
    "    sudo examples/pipeline/build/pipeline -c 0x1F -- -s /home/ubuntu/main/main.cli"
   ]
  },
  {
   "cell_type": "code",
   "execution_count": 9,
   "id": "7dbe1152-dd56-43ec-bcf0-812520c281b4",
   "metadata": {},
   "outputs": [
    {
     "data": {
      "text/plain": [
       "<SFTPAttributes: [ size=837 uid=1000 gid=1000 mode=0o100664 atime=1735932697 mtime=1735932697 ]>"
      ]
     },
     "execution_count": 9,
     "metadata": {},
     "output_type": "execute_result"
    }
   ],
   "source": [
    "# server2.upload_file('main/scripts/telnet.py','main/telnet.py')\n",
    "# server2.upload_file('main/scripts/print_flow.py','main/print_flow.py')\n",
    "# server2.upload_file('main/scripts/clear.py','main/clear.py')"
   ]
  },
  {
   "cell_type": "code",
   "execution_count": 4,
   "id": "fc34d683-df5a-4ce6-8e74-6c2dffe7dc6d",
   "metadata": {},
   "outputs": [
    {
     "name": "stdout",
     "output_type": "stream",
     "text": [
      "\u001b[31m sudo: unable to resolve host server2: Name or service not known\n",
      " \u001b[0m"
     ]
    }
   ],
   "source": [
    "# server1.upload_file('main/scripts/ethtool.sh','ethtool.sh')\n",
    "# stdout, stderr = server1.execute(f'sudo chmod +x ethtool.sh')\n",
    "# server2.upload_file('main/scripts/ethtool.sh','ethtool.sh')\n",
    "# stdout, stderr = server2.execute(f'sudo chmod +x ethtool.sh')\n",
    "# server3.upload_file('main/scripts/ethtool.sh','ethtool.sh')\n",
    "# stdout, stderr = server3.execute(f'sudo chmod +x ethtool.sh')\n",
    "# server2.upload_file('main/scripts/srcip.sh','srcip.sh')\n",
    "# stdout, stderr = server2.execute(f'sudo chmod +x srcip.sh')"
   ]
  },
  {
   "cell_type": "code",
   "execution_count": 19,
   "id": "90d88376-c23e-43e4-bdd4-316e1ddca59a",
   "metadata": {},
   "outputs": [
    {
     "name": "stdout",
     "output_type": "stream",
     "text": [
      "\u001b[31m sudo: unable to resolve host server3: Name or service not known\n",
      " \u001b[0m"
     ]
    }
   ],
   "source": [
    "# server3.upload_file('main/scripts/send.py','send.py')\n",
    "# stdout, stderr = server3.execute(f'sudo chmod +x send.py')"
   ]
  },
  {
   "cell_type": "code",
   "execution_count": 18,
   "id": "69d91c18-7759-48e1-ad75-b83a9fbb0dc4",
   "metadata": {},
   "outputs": [],
   "source": [
    "server2.download_file('main/main.spec','main/main.spec')"
   ]
  },
  {
   "cell_type": "code",
   "execution_count": 8,
   "id": "d73c45a1-4d62-4f67-8e52-40da629545cf",
   "metadata": {},
   "outputs": [],
   "source": [
    "# server2.download_file('src_ips.csv','src_ips.csv')"
   ]
  },
  {
   "cell_type": "code",
   "execution_count": 6,
   "id": "6ddea52a-a4fb-4391-9291-62398f32c182",
   "metadata": {},
   "outputs": [],
   "source": [
    "# server3.download_file('network_packets.csv','network_packets.csv')"
   ]
  },
  {
   "cell_type": "markdown",
   "id": "84027a79-fd21-4e89-892a-f8b64a15fede",
   "metadata": {
    "jp-MarkdownHeadingCollapsed": true
   },
   "source": [
    "### MULTICORE"
   ]
  },
  {
   "cell_type": "code",
   "execution_count": 10,
   "id": "3b8b21cb-9b4f-48af-85c5-8d44aeb2f207",
   "metadata": {},
   "outputs": [],
   "source": [
    "stdout, stderr = server2.execute(f'mkdir multicore')"
   ]
  },
  {
   "cell_type": "code",
   "execution_count": 4,
   "id": "bfa8fc40-9250-44a6-8b53-9c4df9204ffc",
   "metadata": {},
   "outputs": [
    {
     "data": {
      "text/plain": [
       "<SFTPAttributes: [ size=14617 uid=1000 gid=1000 mode=0o100664 atime=1737322400 mtime=1738182061 ]>"
      ]
     },
     "execution_count": 4,
     "metadata": {},
     "output_type": "execute_result"
    }
   ],
   "source": [
    "server2.upload_file('main/multicore/rules.txt','multicore/rules.txt')\n",
    "server2.upload_file('main/multicore/ethdev0.io','multicore/ethdev0.io')\n",
    "server2.upload_file('main/multicore/ethdev1.io','multicore/ethdev1.io')\n",
    "server2.upload_file('main/multicore/ethdev2.io','multicore/ethdev2.io')\n",
    "server2.upload_file('main/multicore/ethdev3.io','multicore/ethdev3.io')\n",
    "server2.upload_file('main/multicore/ethdev4.io','multicore/ethdev4.io')\n",
    "server2.upload_file('main/multicore/ethdev5.io','multicore/ethdev5.io')\n",
    "server2.upload_file('main/multicore/ethdev6.io','multicore/ethdev6.io')\n",
    "server2.upload_file('main/multicore/ethdev7.io','multicore/ethdev7.io')\n",
    "server2.upload_file('main/multicore/p0.cli','multicore/p0.cli')\n",
    "server2.upload_file('main/multicore/p1.cli','multicore/p1.cli')\n",
    "server2.upload_file('main/multicore/p2.cli','multicore/p2.cli')\n",
    "server2.upload_file('main/multicore/p3.cli','multicore/p3.cli')\n",
    "server2.upload_file('main/multicore/p4.cli','multicore/p4.cli')\n",
    "server2.upload_file('main/multicore/p5.cli','multicore/p5.cli')\n",
    "server2.upload_file('main/multicore/p6.cli','multicore/p6.cli')\n",
    "server2.upload_file('main/multicore/p7.cli','multicore/p7.cli')"
   ]
  },
  {
   "cell_type": "markdown",
   "id": "96b1cace-cfdc-43dc-a264-7ff6c4f61e6b",
   "metadata": {},
   "source": [
    "sudo examples/pipeline/build/pipeline -c 0x03 -- -s /home/ubuntu/multicore/p0.cli\n",
    "sudo examples/pipeline/build/pipeline -c 0x07 -- -s /home/ubuntu/multicore/p1.cli\n",
    "sudo examples/pipeline/build/pipeline -c 0x0F -- -s /home/ubuntu/multicore/p2.cli\n",
    "sudo examples/pipeline/build/pipeline -c 0x1F -- -s /home/ubuntu/multicore/p3.cli\n",
    "sudo examples/pipeline/build/pipeline -c 0x3F -- -s /home/ubuntu/multicore/p4.cli\n",
    "sudo examples/pipeline/build/pipeline -c 0x7F -- -s /home/ubuntu/multicore/p5.cli\n",
    "sudo examples/pipeline/build/pipeline -c 0xFF -- -s /home/ubuntu/multicore/p6.cli\n",
    "sudo examples/pipeline/build/pipeline -c 0x1FF -- -s /home/ubuntu/multicore/p7.cli"
   ]
  },
  {
   "cell_type": "markdown",
   "id": "a342c3b2-a1c6-42a9-890a-da7e1a0c0ec9",
   "metadata": {},
   "source": [
    "### Timestamps"
   ]
  },
  {
   "cell_type": "code",
   "execution_count": 20,
   "id": "f8423136-1c45-4818-a334-1e452b99adc5",
   "metadata": {},
   "outputs": [],
   "source": [
    "# stdout, stderr = server2.execute(f'cd dpdk/lib/pipeline/ &&  sudo rm rte_swx_pipeline.c && sudo rm rte_swx_pipeline_internal.h', quiet = True)\n",
    "# server2.upload_file('scripts/rte_swx_pipeline.c','/home/ubuntu/dpdk/lib/pipeline/rte_swx_pipeline.c')\n",
    "# server2.upload_file('scripts/rte_swx_pipeline_internal.h','/home/ubuntu/dpdk/lib/pipeline/rte_swx_pipeline_internal.h')\n",
    "# stdout, stderr = server2.execute(f'cd dpdk && cd build && sudo ninja && sudo ninja install && sudo ldconfig', quiet = True)"
   ]
  },
  {
   "cell_type": "code",
   "execution_count": 23,
   "id": "aff6f837-dedf-46b3-b2ac-98e3345f52cb",
   "metadata": {},
   "outputs": [
    {
     "data": {
      "text/plain": [
       "<SFTPAttributes: [ size=15263 uid=1000 gid=1000 mode=0o100664 atime=1737322400 mtime=1738190363 ]>"
      ]
     },
     "execution_count": 23,
     "metadata": {},
     "output_type": "execute_result"
    }
   ],
   "source": [
    "server2.upload_file('main/multicore/telnet0.py','multicore/telnet0.py')\n",
    "server2.upload_file('main/multicore/telnet1.py','multicore/telnet1.py')\n",
    "server2.upload_file('main/multicore/telnet2.py','multicore/telnet2.py')\n",
    "server2.upload_file('main/multicore/telnet3.py','multicore/telnet3.py')\n",
    "server2.upload_file('main/multicore/telnet4.py','multicore/telnet4.py')\n",
    "server2.upload_file('main/multicore/telnet5.py','multicore/telnet5.py')\n",
    "server2.upload_file('main/multicore/telnet6.py','multicore/telnet6.py')\n",
    "server2.upload_file('main/multicore/telnet7.py','multicore/telnet7.py')"
   ]
  },
  {
   "cell_type": "markdown",
   "id": "03e77160-a7da-4b0d-95f6-aa353e31ed07",
   "metadata": {
    "jp-MarkdownHeadingCollapsed": true
   },
   "source": [
    "### SURICATA DPDK"
   ]
  },
  {
   "cell_type": "code",
   "execution_count": 13,
   "id": "62566a68-3fe5-4666-a702-fe8567e52caf",
   "metadata": {},
   "outputs": [],
   "source": [
    "stdout, stderr = server2.execute(f'mkdir myrules')"
   ]
  },
  {
   "cell_type": "code",
   "execution_count": 38,
   "id": "a098a560-bd5f-4e68-a734-ba054e009f68",
   "metadata": {},
   "outputs": [
    {
     "name": "stdout",
     "output_type": "stream",
     "text": [
      "\u001b[31m sudo: unable to resolve host server2: Name or service not known\n",
      " \u001b[0m"
     ]
    }
   ],
   "source": [
    "# server2.upload_file('main/suricata/syn.rules','myrules/syn.rules')\n",
    "server2.upload_file('main/suricata/synack.rules','myrules/synack.rules')\n",
    "# # server2.upload_file('main/suricata/ack.rules','myrules/ack.rules')\n",
    "# server2.upload_file('main/suricata/fin.rules','myrules/fin.rules')\n",
    "# server2.upload_file('main/suricata/hh.rules','myrules/hh.rules')\n",
    "# server2.upload_file('main/suricata/icmp.rules','myrules/icmp.rules')\n",
    "# server2.upload_file('main/suricata/udp.rules','myrules/udp.rules')\n",
    "stdout, stderr = server2.execute(f'sudo cp ~/myrules/*.rules /usr/local/var/lib/suricata/rules/')"
   ]
  },
  {
   "cell_type": "code",
   "execution_count": null,
   "id": "944fc4d5-b630-42c9-bc12-563f00edb822",
   "metadata": {},
   "outputs": [],
   "source": [
    "stdout, stderr = server3.execute(f'mkdir suricata')"
   ]
  },
  {
   "cell_type": "code",
   "execution_count": 5,
   "id": "431f91dd-f690-49ed-ba33-3f001b1d2d01",
   "metadata": {},
   "outputs": [
    {
     "data": {
      "text/plain": [
       "<SFTPAttributes: [ size=1109 uid=1000 gid=1000 mode=0o100664 atime=1737856358 mtime=1737856747 ]>"
      ]
     },
     "execution_count": 5,
     "metadata": {},
     "output_type": "execute_result"
    }
   ],
   "source": [
    "# server3.upload_file('main/suricata/syn.py','suricata/syn.py')\n",
    "server3.upload_file('main/suricata/synack.py','suricata/synack.py')\n",
    "# # server3.upload_file('main/suricata/ack.py','suricata/ack.py')\n",
    "# server3.upload_file('main/suricata/fin.py','suricata/fin.py')\n",
    "# server3.upload_file('main/suricata/hh.py','suricata/hh.py')\n",
    "# server3.upload_file('main/suricata/icmp.py','suricata/icmp.py')\n",
    "# server3.upload_file('main/suricata/udp.py','suricata/udp.py')"
   ]
  },
  {
   "cell_type": "code",
   "execution_count": 40,
   "id": "b294adea-164e-42c1-b107-a38401cd1450",
   "metadata": {},
   "outputs": [
    {
     "name": "stdout",
     "output_type": "stream",
     "text": [
      "\u001b[31m sudo: unable to resolve host server2: Name or service not known\n",
      " \u001b[0m\u001b[31m sudo: unable to resolve host server2: Name or service not known\n",
      " \u001b[0m"
     ]
    }
   ],
   "source": [
    "stdout, stderr = server2.execute(f'sudo cp /usr/local/etc/suricata/suricata.yaml ./')\n",
    "stdout, stderr = server2.execute(f' sudo chmod o+r suricata.yaml')\n",
    "server2.download_file('main/suricata/suricata.yaml','suricata.yaml')"
   ]
  },
  {
   "cell_type": "code",
   "execution_count": 41,
   "id": "fb56883f-3128-4943-8627-89b58834ac3d",
   "metadata": {},
   "outputs": [
    {
     "name": "stdout",
     "output_type": "stream",
     "text": [
      "\u001b[31m sudo: unable to resolve host server2: Name or service not known\n",
      " \u001b[0m"
     ]
    }
   ],
   "source": [
    "server2.upload_file('main/suricata/suricata.yaml','myrules/suricata.yaml')\n",
    "stdout, stderr = server2.execute(f'sudo cp ~/myrules/suricata.yaml /usr/local/etc/suricata/')"
   ]
  },
  {
   "cell_type": "code",
   "execution_count": 40,
   "id": "e7b9c4fa-7f04-4a72-8ba6-bb4b262584fb",
   "metadata": {},
   "outputs": [
    {
     "name": "stdout",
     "output_type": "stream",
     "text": [
      "\u001b[31m sudo: unable to resolve host server2: Name or service not known\n",
      " \u001b[0m"
     ]
    }
   ],
   "source": [
    "stdout, stderr = server2.execute(f'sudo pkill -f -9 suricata')"
   ]
  },
  {
   "cell_type": "markdown",
   "id": "54098e53-2b43-4790-a3c0-3781fe0e59cc",
   "metadata": {},
   "source": [
    "sudo cd /usr/local/var/lib/suricata/rules/\n",
    "\n",
    "sudo vi /usr/local/etc/suricata/suricata.yaml \n",
    "\n",
    "sudo suricata --dpdk -vvvv -c /usr/local/etc/suricata/suricata.yaml\n",
    "\n",
    "sudo cat /usr/local/var/log/suricata/stats.log \n",
    "echo \"\" > /usr/local/var/log/suricata/fast.log\n",
    "cat /usr/local/var/log/suricata/fast.log | tail -n 10"
   ]
  },
  {
   "cell_type": "markdown",
   "id": "9f7285c0-a3bc-4611-8edd-c41191d4915f",
   "metadata": {},
   "source": [
    "sudo pktgen -l 0,1 -n 4 -a 07:00.0 -- -P -m \"1.0\""
   ]
  },
  {
   "cell_type": "markdown",
   "id": "aa795978-d53c-4464-a8e6-5ee91ca9f9bf",
   "metadata": {
    "jp-MarkdownHeadingCollapsed": true
   },
   "source": [
    "### AOM"
   ]
  },
  {
   "cell_type": "code",
   "execution_count": 11,
   "id": "f30b2c2c-111f-4719-8bbf-8241fce34a18",
   "metadata": {},
   "outputs": [
    {
     "name": "stdout",
     "output_type": "stream",
     "text": [
      "\u001b[31m sudo: unable to resolve host server2: Name or service not known\n",
      " \u001b[0m"
     ]
    }
   ],
   "source": [
    "server2.upload_file('main/aom/control.p4','main/control.p4')\n",
    "server2.upload_file('main/aom/deparser.p4','main/deparser.p4')\n",
    "# server2.upload_file('main/aom/fin_flood.p4','main/fin_flood.p4')\n",
    "server2.upload_file('main/aom/headers.p4','main/headers.p4')\n",
    "server2.upload_file('main/aom/main.p4','main/main.p4')\n",
    "server2.upload_file('main/aom/parser.p4','main/parser.p4')\n",
    "# server2.upload_file('main/aom/registers.p4','main/registers.p4')\n",
    "# server2.upload_file('main/aom/syn_flood.p4','main/syn_flood.p4')\n",
    "stdout, stderr = server2.execute(f'cd main && sudo p4c-dpdk --arch=pna main.p4 -o main.spec')"
   ]
  },
  {
   "cell_type": "markdown",
   "id": "9e1bc56c-b2d9-42f6-b29f-d1f1fba2983b",
   "metadata": {},
   "source": [
    "## MAIN EXTENDED"
   ]
  },
  {
   "cell_type": "code",
   "execution_count": 7,
   "id": "0b72e3c3-6f22-4da0-a29f-f9bc4054015b",
   "metadata": {},
   "outputs": [],
   "source": [
    "stdout, stderr = server2.execute(f'mkdir main')"
   ]
  },
  {
   "cell_type": "code",
   "execution_count": 3,
   "id": "417dda4e-c3a4-46f2-8df9-3cbec3ab6b79",
   "metadata": {},
   "outputs": [
    {
     "name": "stdout",
     "output_type": "stream",
     "text": [
      "\u001b[31m sudo: unable to resolve host server2: Name or service not known\n",
      " \u001b[0m"
     ]
    }
   ],
   "source": [
    "# server2.upload_file('main/ack_flood.p4','main/ack_flood.p4')\n",
    "# server2.upload_file('main/control.p4','main/control.p4')\n",
    "# server2.upload_file('main/deparser.p4','main/deparser.p4')\n",
    "# server2.upload_file('main/fin_flood.p4','main/fin_flood.p4')\n",
    "# server2.upload_file('main/get_icmp_flow.p4','main/get_icmp_flow.p4')\n",
    "# server2.upload_file('main/get_tcp_flow.p4','main/get_tcp_flow.p4')\n",
    "# server2.upload_file('main/headers.p4','main/headers.p4')\n",
    "# server2.upload_file('main/heavy_hitter.p4','main/heavy_hitter.p4')\n",
    "# server2.upload_file('main/icmp_flood.p4','main/icmp_flood.p4')\n",
    "# server2.upload_file('main/main.p4','main/main.p4')\n",
    "# server2.upload_file('main/parser.p4','main/parser.p4')\n",
    "# server2.upload_file('main/registers.p4','main/registers.p4')\n",
    "# server2.upload_file('main/syn_ack_flood.p4','main/syn_ack_flood.p4')\n",
    "# server2.upload_file('main/syn_flood.p4','main/syn_flood.p4')\n",
    "# server2.upload_file('main/udp_flood.p4','main/udp_flood.p4')\n",
    "# stdout, stderr = server2.execute(f'cd main && sudo p4c-dpdk --arch=pna main.p4 -o main.spec')"
   ]
  },
  {
   "cell_type": "code",
   "execution_count": 9,
   "id": "3f8145ca-985a-49ca-a41d-add5d7c26e33",
   "metadata": {},
   "outputs": [
    {
     "name": "stdout",
     "output_type": "stream",
     "text": [
      "\u001b[31m sudo: unable to resolve host server2: Name or service not known\n",
      " \u001b[0m"
     ]
    }
   ],
   "source": [
    "server2.upload_file('main/control.p4','main/control.p4')\n",
    "server2.upload_file('main/deparser.p4','main/deparser.p4')\n",
    "server2.upload_file('main/headers.p4','main/headers.p4')\n",
    "server2.upload_file('main/main.p4','main/main.p4')\n",
    "server2.upload_file('main/parser.p4','main/parser.p4')\n",
    "server2.upload_file('main/registers.p4','main/registers.p4')\n",
    "server2.upload_file('main/syn_flood.p4','main/syn_flood.p4')\n",
    "stdout, stderr = server2.execute(f'cd main && sudo p4c-dpdk --arch=pna main.p4 -o main.spec')"
   ]
  },
  {
   "cell_type": "code",
   "execution_count": 5,
   "id": "6b6f0653-473d-4446-9910-9bfaf8d16555",
   "metadata": {},
   "outputs": [
    {
     "data": {
      "text/plain": [
       "<SFTPAttributes: [ size=1349 uid=1000 gid=1000 mode=0o100664 atime=1737322113 mtime=1739845695 ]>"
      ]
     },
     "execution_count": 5,
     "metadata": {},
     "output_type": "execute_result"
    }
   ],
   "source": [
    "server2.upload_file('main/scripts/rules.txt','main/rules.txt')\n",
    "server2.upload_file('main/scripts/ethdev0.io','main/ethdev0.io')\n",
    "server2.upload_file('main/scripts/ethdev1.io','main/ethdev1.io')\n",
    "server2.upload_file('main/scripts/ethdev2.io','main/ethdev2.io')\n",
    "server2.upload_file('main/scripts/ethdev3.io','main/ethdev3.io')\n",
    "server2.upload_file('main/scripts/main.cli','main/main.cli')"
   ]
  },
  {
   "cell_type": "markdown",
   "id": "08cab142-d50a-4362-8848-d5a12b9af479",
   "metadata": {},
   "source": [
    "    cd dpdk\n",
    "    sudo examples/pipeline/build/pipeline -c 0x1F -- -s /home/ubuntu/main/main.cli"
   ]
  },
  {
   "cell_type": "code",
   "execution_count": 25,
   "id": "2b2d4f5b-cc1a-4834-a4ac-7c2b456680e2",
   "metadata": {},
   "outputs": [
    {
     "data": {
      "text/plain": [
       "<SFTPAttributes: [ size=6000 uid=1000 gid=1000 mode=0o100664 atime=1744043382 mtime=1744044662 ]>"
      ]
     },
     "execution_count": 25,
     "metadata": {},
     "output_type": "execute_result"
    }
   ],
   "source": [
    "server2.upload_file('main/scripts/threshold.py','main/threshold.py')\n",
    "# server2.upload_file('main/scripts/getpps.py','main/getpps.py')\n",
    "# server2.upload_file('main/scripts/write.py','main/write.py')"
   ]
  },
  {
   "cell_type": "code",
   "execution_count": 26,
   "id": "39836d90-71fc-499d-a863-6db0ed29c5fa",
   "metadata": {},
   "outputs": [],
   "source": [
    "server2.download_file('main/scripts/output.txt','main/output.txt')"
   ]
  },
  {
   "cell_type": "code",
   "execution_count": 8,
   "id": "d9837eb5-29b5-4e5b-964f-29cc9f7ca111",
   "metadata": {},
   "outputs": [
    {
     "name": "stdout",
     "output_type": "stream",
     "text": [
      "\u001b[31m sudo: unable to resolve host server1: Name or service not known\n",
      " \u001b[0m\u001b[31m sudo: unable to resolve host server3: Name or service not known\n",
      " \u001b[0m"
     ]
    }
   ],
   "source": [
    "server1.upload_file('main/scripts/ethtool.sh','ethtool.sh')\n",
    "stdout, stderr = server1.execute(f'sudo chmod +x ethtool.sh')\n",
    "\n",
    "server3.upload_file('main/scripts/ethtool.sh','ethtool.sh')\n",
    "stdout, stderr = server3.execute(f'sudo chmod +x ethtool.sh')"
   ]
  },
  {
   "cell_type": "code",
   "execution_count": 37,
   "id": "c0dd25fa-dacd-42fc-bc6e-fc8f71786b28",
   "metadata": {},
   "outputs": [],
   "source": [
    "server3.download_file('network_packets.csv','network_packets.csv')"
   ]
  },
  {
   "cell_type": "markdown",
   "id": "f6357bf2-808e-492b-a5af-5d21687ebd78",
   "metadata": {
    "jp-MarkdownHeadingCollapsed": true
   },
   "source": [
    "# MoonGen"
   ]
  },
  {
   "cell_type": "code",
   "execution_count": null,
   "id": "ba282230-d8ad-4b6b-86f4-6113407fbb61",
   "metadata": {},
   "outputs": [],
   "source": [
    "#https://scholzd.github.io/MoonGen/download.html\n",
    "#https://github.com/emmericp/MoonGen?tab=readme-ov-file\n",
    "stdout, stderr = server3.execute('sudo sudo apt install libtbb2', quiet = True)\n",
    "stdout, stderr = server3.execute('git clone https://github.com/emmericp/MoonGen.git', quiet = True)\n",
    "stdout, stderr = server3.execute('cd p4c && ./build.sh && ./setup-hugetlbfs.sh', quiet = True)\n",
    "#sudo ./build/MoonGen ./examples/l3-load-latency.lua 0 1"
   ]
  },
  {
   "cell_type": "code",
   "execution_count": null,
   "id": "00008e79-d379-4a5c-9ef6-1efe31bcfe8a",
   "metadata": {},
   "outputs": [],
   "source": []
  },
  {
   "cell_type": "markdown",
   "id": "49e6dd26-c20c-4c25-96c2-1b2f1aaaeca9",
   "metadata": {
    "jp-MarkdownHeadingCollapsed": true,
    "tags": []
   },
   "source": [
    "# Step 10: Delete the slice"
   ]
  },
  {
   "cell_type": "code",
   "execution_count": 1,
   "id": "1f27f3fc-004f-46c2-984c-8c2a90883eb6",
   "metadata": {
    "tags": []
   },
   "outputs": [],
   "source": [
    "from fabrictestbed_extensions.fablib.fablib import FablibManager as fablib_manager\n",
    "fablib = fablib_manager()\n",
    "slice = fablib.get_slice(name=\"P4DPDK_HH4\")\n",
    "# slice.delete()"
   ]
  }
 ],
 "metadata": {
  "kernelspec": {
   "display_name": "Python 3 (ipykernel)",
   "language": "python",
   "name": "python3"
  },
  "language_info": {
   "codemirror_mode": {
    "name": "ipython",
    "version": 3
   },
   "file_extension": ".py",
   "mimetype": "text/x-python",
   "name": "python",
   "nbconvert_exporter": "python",
   "pygments_lexer": "ipython3",
   "version": "3.11.9"
  }
 },
 "nbformat": 4,
 "nbformat_minor": 5
}
