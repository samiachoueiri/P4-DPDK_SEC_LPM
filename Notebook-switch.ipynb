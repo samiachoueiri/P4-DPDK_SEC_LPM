{
 "cells": [
  {
   "cell_type": "markdown",
   "id": "2b571c06-bfd5-464a-acf4-d28845c8e840",
   "metadata": {
    "tags": []
   },
   "source": [
    "# Slice setup"
   ]
  },
  {
   "cell_type": "code",
   "execution_count": 1,
   "id": "2e9c3ea6-f0b5-4e34-9a4c-82785ff386c4",
   "metadata": {},
   "outputs": [],
   "source": [
    "from fabrictestbed_extensions.fablib.fablib import FablibManager as fablib_manager\n",
    "fablib = fablib_manager()"
   ]
  },
  {
   "cell_type": "markdown",
   "id": "161198e4-00b0-4994-9de8-28e8bfb16cc8",
   "metadata": {
    "tags": []
   },
   "source": [
    "## Slice"
   ]
  },
  {
   "cell_type": "code",
   "execution_count": 2,
   "id": "9c97d810-ac6a-4c04-892d-f0ddbe69954b",
   "metadata": {
    "tags": []
   },
   "outputs": [],
   "source": [
    "# slice = fablib.new_slice(name=\"P4DPDK_slice\")"
   ]
  },
  {
   "cell_type": "code",
   "execution_count": 1,
   "id": "be136fbc-173b-44d5-81d7-def5820d8a34",
   "metadata": {},
   "outputs": [],
   "source": [
    "from fabrictestbed_extensions.fablib.fablib import FablibManager as fablib_manager\n",
    "fablib = fablib_manager()\n",
    "slice = fablib.get_slice(name=\"P4DPDK_HH4\")\n",
    "# slice.delete()"
   ]
  },
  {
   "cell_type": "code",
   "execution_count": 2,
   "id": "61333554-ef05-480e-bee6-c2a035213b0c",
   "metadata": {},
   "outputs": [],
   "source": [
    "servers = []\n",
    "\n",
    "servers.append(slice.get_node(name=\"server1\"))     \n",
    "servers.append(slice.get_node(name=\"server2\"))\n",
    "servers.append(slice.get_node(name=\"switch\"))     \n",
    "servers.append(slice.get_node(name=\"server3\"))\n",
    "servers.append(slice.get_node(name=\"server4\"))     \n",
    "servers.append(slice.get_node(name=\"server5\"))     \n",
    "servers.append(slice.get_node(name=\"server6\"))     \n",
    "\n",
    "server1 = servers[0]\n",
    "server2 = servers[1]\n",
    "switch = servers[2]\n",
    "server3 = servers[3]\n",
    "server4 = servers[4]\n",
    "server5 = servers[5]\n",
    "server6 = servers[6]"
   ]
  },
  {
   "cell_type": "markdown",
   "id": "94197771-e620-48f3-80f2-9cab71f48542",
   "metadata": {
    "jp-MarkdownHeadingCollapsed": true,
    "tags": []
   },
   "source": [
    "## Reboot"
   ]
  },
  {
   "cell_type": "code",
   "execution_count": 16,
   "id": "3b4307ef-2dbe-465b-969c-2a82a82fa4b7",
   "metadata": {},
   "outputs": [],
   "source": [
    "for server in servers:\n",
    "    server.os_reboot()"
   ]
  },
  {
   "cell_type": "markdown",
   "id": "89dca51d-dd1a-48d3-b285-68727e56992c",
   "metadata": {
    "jp-MarkdownHeadingCollapsed": true,
    "tags": []
   },
   "source": [
    "## Get interfaces names\n",
    "In this step we will get the interface names so that we can assign IP addresses to them. Map the printed interface names to those seen in this figure:\n",
    "\n",
    "<img src=\"./labs_files/SYN/figs/07_getting_interfaces.png\" width=\"550\"><br>"
   ]
  },
  {
   "cell_type": "code",
   "execution_count": 35,
   "id": "3d3b0d19-c55b-43e5-98b1-cea0fccec6b7",
   "metadata": {},
   "outputs": [
    {
     "name": "stdout",
     "output_type": "stream",
     "text": [
      "server1_iface: enp7s0np0\n",
      "server2_iface1: enp7s0np0\n",
      "server2_iface2: enp8s0np1\n",
      "server3_iface: enp7s0np0\n"
     ]
    }
   ],
   "source": [
    "node1_iface = server1.get_interface(network_name='net1') \n",
    "server1_iface_name = node1_iface.get_device_name()+'np0'\n",
    "print(f'server1_iface: {server1_iface_name}')\n",
    "\n",
    "node2_iface1 = server2.get_interface(network_name='net1') \n",
    "server2_iface1_name = node2_iface1.get_device_name()+'np0'\n",
    "print(f'server2_iface1: {server2_iface1_name}')\n",
    "node2_iface2 = server2.get_interface(network_name='net2') \n",
    "server2_iface2_name = node2_iface2.get_device_name()+'np1'\n",
    "print(f'server2_iface2: {server2_iface2_name}')\n",
    "\n",
    "switch_iface = switch.get_interface(network_name='net2') \n",
    "switch_iface_name = switch_iface.get_device_name()+'np0'\n",
    "print(f'switch_iface: {switch_iface_name}')\n",
    "switch_iface3 = switch.get_interface(network_name='net3') \n",
    "switch_iface3_name = switch_iface3.get_device_name()+'np0'\n",
    "print(f'switch_iface3: {switch_iface3_name}')\n",
    "switch_iface4 = switch.get_interface(network_name='net4') \n",
    "switch_iface4_name = switch_iface4.get_device_name()+'np0'\n",
    "print(f'switch_iface4: {switch_iface4_name}')\n",
    "switch_iface5 = switch.get_interface(network_name='net5') \n",
    "switch_iface5_name = switch_iface5.get_device_name()+'np0'\n",
    "print(f'switch_iface5: {switch_iface5_name}')\n",
    "switch_iface6 = switch.get_interface(network_name='net6') \n",
    "switch_iface6_name = switch_iface6.get_device_name()+'np0'\n",
    "print(f'switch_iface6: {switch_iface6_name}')\n",
    "\n",
    "node3_iface = server3.get_interface(network_name='net3') \n",
    "server3_iface_name = node3_iface.get_device_name()+'np0'\n",
    "print(f'server3_iface: {server3_iface_name}')\n",
    "\n",
    "node4_iface = server4.get_interface(network_name='net4') \n",
    "server4_iface_name = node4_iface.get_device_name()+'np0'\n",
    "print(f'server4_iface: {server4_iface_name}')\n",
    "\n",
    "node5_iface = server5.get_interface(network_name='net5') \n",
    "server5_iface_name = node5_iface.get_device_name()+'np0'\n",
    "print(f'server5_iface: {server5_iface_name}')\n",
    "\n",
    "node6_iface = server6.get_interface(network_name='net6') \n",
    "server6_iface_name = node6_iface.get_device_name()+'np0'\n",
    "print(f'server6_iface: {server6_iface_name}')"
   ]
  },
  {
   "cell_type": "code",
   "execution_count": 36,
   "id": "c1b5b81d-0748-4469-9199-1b1ac166ae37",
   "metadata": {},
   "outputs": [],
   "source": [
    "stdout, stderr = server1.execute(f'sudo ip link set dev {server1_iface_name} up', quiet=True)\n",
    "stdout, stderr = server2.execute(f'sudo ip link set dev {server2_iface1_name} up', quiet=True)\n",
    "stdout, stderr = server2.execute(f'sudo ip link set dev {server2_iface2_name} up', quiet=True)\n",
    "\n",
    "stdout, stderr = switch.execute(f'sudo ip link set dev {switch_iface_name} up', quiet=True)\n",
    "stdout, stderr = switch.execute(f'sudo ip link set dev {switch_iface3_name} up', quiet=True)\n",
    "stdout, stderr = switch.execute(f'sudo ip link set dev {switch_iface4_name} up', quiet=True)\n",
    "stdout, stderr = switch.execute(f'sudo ip link set dev {switch_iface5_name} up', quiet=True)\n",
    "stdout, stderr = switch.execute(f'sudo ip link set dev {switch_iface6_name} up', quiet=True)\n",
    "\n",
    "stdout, stderr = server3.execute(f'sudo ip link set dev {server3_iface_name} up', quiet=True)\n",
    "stdout, stderr = server4.execute(f'sudo ip link set dev {server4_iface_name} up', quiet=True)\n",
    "stdout, stderr = server5.execute(f'sudo ip link set dev {server5_iface_name} up', quiet=True)\n",
    "stdout, stderr = server6.execute(f'sudo ip link set dev {server6_iface_name} up', quiet=True)"
   ]
  },
  {
   "cell_type": "code",
   "execution_count": 37,
   "id": "96f41fe4-6da1-4551-8de8-84125232595e",
   "metadata": {},
   "outputs": [],
   "source": [
    "server1_iface_MAC = '00:00:00:00:00:01' \n",
    "server2_iface1_MAC = '00:00:00:00:00:21' \n",
    "server2_iface2_MAC = '00:00:00:00:00:22' \n",
    "\n",
    "switch_iface_MAC = '00:00:00:00:00:30' \n",
    "switch_iface3_MAC = '00:00:00:00:00:33'\n",
    "switch_iface4_MAC = '00:00:00:00:00:34'\n",
    "switch_iface5_MAC = '00:00:00:00:00:35'\n",
    "switch_iface6_MAC = '00:00:00:00:00:36'\n",
    "\n",
    "server3_iface_MAC = '00:00:00:00:00:03'\n",
    "server4_iface_MAC = '00:00:00:00:00:04'\n",
    "server5_iface_MAC = '00:00:00:00:00:05'\n",
    "server6_iface_MAC = '00:00:00:00:00:06'"
   ]
  },
  {
   "cell_type": "code",
   "execution_count": 38,
   "id": "7340e2cc-f657-41ae-8b78-62c21afed741",
   "metadata": {},
   "outputs": [
    {
     "name": "stdout",
     "output_type": "stream",
     "text": [
      "\u001b[31m sudo: unable to resolve host server1: Name or service not known\n",
      " \u001b[0m\u001b[31m sudo: unable to resolve host server2: Name or service not known\n",
      " \u001b[0m\u001b[31m sudo: unable to resolve host server1: Name or service not known\n",
      " \u001b[0m\u001b[31m sudo: unable to resolve host server2: Name or service not known\n",
      " \u001b[0m"
     ]
    }
   ],
   "source": [
    "stdout, stderr = server1.execute(f'sudo ifconfig {server1_iface_name} hw ether {server1_iface_MAC}')\n",
    "stdout, stderr = server2.execute(f'sudo ifconfig {server2_iface1_name} hw ether {server2_iface1_MAC}')\n",
    "stdout, stderr = server2.execute(f'sudo ifconfig {server2_iface2_name} hw ether {server2_iface2_MAC}')\n",
    "\n",
    "stdout, stderr = switch.execute(f'sudo ifconfig {switch_iface_name} hw ether {switch_iface_MAC}')\n",
    "stdout, stderr = switch.execute(f'sudo ifconfig {switch_iface3_name} hw ether {switch_iface3_MAC}')\n",
    "stdout, stderr = switch.execute(f'sudo ifconfig {switch_iface4_name} hw ether {switch_iface4_MAC}')\n",
    "stdout, stderr = switch.execute(f'sudo ifconfig {switch_iface5_name} hw ether {switch_iface5_MAC}')\n",
    "stdout, stderr = switch.execute(f'sudo ifconfig {switch_iface6_name} hw ether {switch_iface6_MAC}')\n",
    "\n",
    "stdout, stderr = server3.execute(f'sudo ifconfig {server3_iface_name} hw ether {server3_iface_MAC}')\n",
    "stdout, stderr = server4.execute(f'sudo ifconfig {server4_iface_name} hw ether {server4_iface_MAC}')\n",
    "stdout, stderr = server5.execute(f'sudo ifconfig {server5_iface_name} hw ether {server5_iface_MAC}')\n",
    "stdout, stderr = server6.execute(f'sudo ifconfig {server6_iface_name} hw ether {server6_iface_MAC}')"
   ]
  },
  {
   "cell_type": "code",
   "execution_count": null,
   "id": "54a7aa9f-1d75-4c76-8f01-49d2b735d8aa",
   "metadata": {},
   "outputs": [],
   "source": [
    "server1_iface_IP = '192.168.10.01/24' \n",
    "server2_iface1_IP = '192.168.10.21/24' \n",
    "server2_iface2_IP = '192.168.20.22/24' \n",
    "\n",
    "switch_iface_IP = '192.168.20.30/24' \n",
    "switch_iface3_IP = '192.168.30.33/24'\n",
    "switch_iface4_IP = '192.168.30.34/24'\n",
    "switch_iface5_IP = '192.168.30.35/24'\n",
    "switch_iface6_IP = '192.168.30.36/24'\n",
    "\n",
    "server3_iface_IP = '192.168.30.03/24'\n",
    "server4_iface_IP = '192.168.30.04/24'\n",
    "server5_iface_IP = '192.168.30.05/24'\n",
    "server6_iface_IP = '192.168.30.06/24'\n",
    "\n",
    "net1_subnet = \"192.168.10.0/24\"\n",
    "net2_subnet = \"192.168.20.0/24\"\n",
    "net3_subnet = \"192.168.30.0/24\""
   ]
  },
  {
   "cell_type": "code",
   "execution_count": 39,
   "id": "af004767-ca84-41ca-9abf-b84e9385c81f",
   "metadata": {},
   "outputs": [
    {
     "name": "stdout",
     "output_type": "stream",
     "text": [
      "\u001b[31m sudo: unable to resolve host server2: Name or service not known\n",
      " \u001b[0m\u001b[31m sudo: unable to resolve host server3: Name or service not known\n",
      " \u001b[0m\u001b[31m sudo: unable to resolve host server2: Name or service not known\n",
      " \u001b[0m\u001b[31m sudo: unable to resolve host server3: Name or service not known\n",
      " \u001b[0m"
     ]
    }
   ],
   "source": [
    "stdout, stderr = server1.execute(f'sudo ifconfig {server1_iface_name} {server1_iface_IP}')\n",
    "stdout, stderr = server2.execute(f'sudo ifconfig {server2_iface1_name} {server2_iface1_IP}')\n",
    "stdout, stderr = server2.execute(f'sudo ifconfig {server2_iface2_name} {server2_iface2_IP}')\n",
    "\n",
    "stdout, stderr = switch.execute(f'sudo ifconfig {switch_iface_name} {switch_iface_IP}')\n",
    "stdout, stderr = switch.execute(f'sudo ifconfig {switch_iface3_name} {switch_iface3_IP}')\n",
    "stdout, stderr = switch.execute(f'sudo ifconfig {switch_iface4_name} {switch_iface4_IP}')\n",
    "stdout, stderr = switch.execute(f'sudo ifconfig {switch_iface5_name} {switch_iface5_IP}')\n",
    "stdout, stderr = switch.execute(f'sudo ifconfig {switch_iface6_name} {switch_iface6_IP}')\n",
    "\n",
    "stdout, stderr = server3.execute(f'sudo ifconfig {server3_iface_name} {server3_iface_IP}')\n",
    "stdout, stderr = server4.execute(f'sudo ifconfig {server4_iface_name} {server4_iface_IP}')\n",
    "stdout, stderr = server5.execute(f'sudo ifconfig {server5_iface_name} {server5_iface_IP}')\n",
    "stdout, stderr = server6.execute(f'sudo ifconfig {server6_iface_name} {server6_iface_IP}')"
   ]
  },
  {
   "cell_type": "code",
   "execution_count": 40,
   "id": "ac08f975-729c-4c80-aa58-9dcf8e5ef440",
   "metadata": {},
   "outputs": [],
   "source": [
    "stdout, stderr = server1.execute(f'sudo sysctl -w net.ipv4.ip_forward=1', quiet=True)\n",
    "stdout, stderr = server2.execute(f'sudo sysctl -w net.ipv4.ip_forward=1', quiet=True)\n",
    "stdout, stderr = server3.execute(f'sudo sysctl -w net.ipv4.ip_forward=1', quiet=True)\n",
    "stdout, stderr = server4.execute(f'sudo sysctl -w net.ipv4.ip_forward=1', quiet=True)\n",
    "stdout, stderr = server5.execute(f'sudo sysctl -w net.ipv4.ip_forward=1', quiet=True)\n",
    "stdout, stderr = server5.execute(f'sudo sysctl -w net.ipv4.ip_forward=1', quiet=True)\n",
    "stdout, stderr = switch.execute(f'sudo sysctl -w net.ipv4.ip_forward=1', quiet=True)"
   ]
  },
  {
   "cell_type": "code",
   "execution_count": 41,
   "id": "bd8a0c6f-7fc5-4711-9636-4d6cb4f1baba",
   "metadata": {},
   "outputs": [
    {
     "name": "stdout",
     "output_type": "stream",
     "text": [
      "\u001b[31m sudo: unable to resolve host server1: Name or service not known\n",
      " \u001b[0m\u001b[31m sudo: unable to resolve host server1: Name or service not known\n",
      "RTNETLINK answers: File exists\n",
      " \u001b[0m\u001b[31m sudo: unable to resolve host server2: Name or service not known\n",
      " \u001b[0m\u001b[31m sudo: unable to resolve host server2: Name or service not known\n",
      " \u001b[0m\u001b[31m sudo: unable to resolve host server3: Name or service not known\n",
      " \u001b[0m\u001b[31m sudo: unable to resolve host server3: Name or service not known\n",
      " \u001b[0m"
     ]
    }
   ],
   "source": [
    "ip1 = server1_iface_IP.split('/')[0]\n",
    "ip2_1 = server2_iface1_IP.split('/')[0]\n",
    "ip2_2 = server2_iface2_IP.split('/')[0]\n",
    "ips = switch_iface_IP.split('/')[0]\n",
    "ips_3 = switch_iface3_IP.split('/')[0]\n",
    "ips_4 = switch_iface4_IP.split('/')[0]\n",
    "ips_5 = switch_iface5_IP.split('/')[0]\n",
    "ips_6 = switch_iface6_IP.split('/')[0]\n",
    "ip3 = server3_iface_IP.split('/')[0]\n",
    "ip4 = server4_iface_IP.split('/')[0]\n",
    "ip5 = server5_iface_IP.split('/')[0]\n",
    "ip6 = server6_iface_IP.split('/')[0]\n",
    "subnet1 = \"192.168.10.0/24\"\n",
    "subnet2 = \"192.168.20.0/24\"\n",
    "subnet3 = \"192.168.30.0/24\"\n",
    "\n",
    "stdout, stderr = server1.execute(f'sudo arp -s {ip2_1} {server2_iface1_MAC} -i {server1_iface_name}')\n",
    "stdout, stderr = server1.execute(f'sudo ip route add {subnet2} via {ip2_1}')\n",
    "stdout, stderr = server1.execute(f'sudo ip route add {subnet3} via {ip2_1}')\n",
    "\n",
    "stdout, stderr = server2.execute(f'sudo arp -s {ip1} {server1_iface_MAC} -i {server2_iface1_name}')\n",
    "stdout, stderr = server2.execute(f'sudo arp -s {ips} {switch_iface_MAC} -i {server2_iface2_name}')\n",
    "stdout, stderr = server2.execute(f'sudo ip route add {subnet3} via {ips}')\n",
    "\n",
    "ststdout, stderr = switch.execute(f'sudo arp -s {ip2_2} {server2_iface2_MAC} -i {switch_iface_name}')\n",
    "stdout, stderr = switch.execute(f'sudo arp -s {ip3} {server3_iface_MAC} -i {switch_iface3_name}')\n",
    "stdout, stderr = switch.execute(f'sudo arp -s {ip4} {server4_iface_MAC} -i {switch_iface4_name}')\n",
    "stdout, stderr = switch.execute(f'sudo arp -s {ip5} {server5_iface_MAC} -i {switch_iface5_name}')\n",
    "stdout, stderr = switch.execute(f'sudo arp -s {ip6} {server6_iface_MAC} -i {switch_iface6_name}')\n",
    "stdout, stderr = switch.execute(f'sudo ip route add {subnet1} via {ip2_2}')\n",
    "stdout, stderr = switch.execute(f'sudo ip route add {ip3} dev {switch_iface3_name} src {ips_3}')\n",
    "stdout, stderr = switch.execute(f'sudo ip route add {ip4} dev {switch_iface4_name} src {ips_4}')\n",
    "stdout, stderr = switch.execute(f'sudo ip route add {ip5} dev {switch_iface5_name} src {ips_5}')\n",
    "stdout, stderr = switch.execute(f'sudo ip route add {ip6} dev {switch_iface6_name} src {ips_6}')\n",
    "\n",
    "stdout, stderr = server3.execute(f'sudo arp -s {ips_3} {switch_iface3_MAC} -i {server3_iface_name}')\n",
    "stdout, stderr = server3.execute(f'sudo ip route add {subnet1} via {ips_3}')\n",
    "stdout, stderr = server3.execute(f'sudo ip route add {subnet2} via {ips_3}')\n",
    "\n",
    "stdout, stderr = server4.execute(f'sudo arp -s {ips_4} {switch_iface4_MAC} -i {server4_iface_name}')\n",
    "stdout, stderr = server4.execute(f'sudo ip route add {subnet1} via {ips_4}')\n",
    "stdout, stderr = server4.execute(f'sudo ip route add {subnet2} via {ips_4}')\n",
    "\n",
    "stdout, stderr = server5.execute(f'sudo arp -s {ips_5} {switch_iface5_MAC} -i {server5_iface_name}')\n",
    "stdout, stderr = server5.execute(f'sudo ip route add {subnet1} via {ips_5}')\n",
    "stdout, stderr = server5.execute(f'sudo ip route add {subnet2} via {ips_5}')\n",
    "\n",
    "stdout, stderr = server6.execute(f'sudo arp -s {ips_6} {switch_iface6_MAC} -i {server6_iface_name}')\n",
    "stdout, stderr = server6.execute(f'sudo ip route add {subnet1} via {ips_6}')\n",
    "stdout, stderr = server6.execute(f'sudo ip route add {subnet2} via {ips_6}')"
   ]
  },
  {
   "cell_type": "code",
   "execution_count": 42,
   "id": "95959918-3aa1-4fb9-9fc1-6b2cddd12130",
   "metadata": {},
   "outputs": [
    {
     "name": "stdout",
     "output_type": "stream",
     "text": [
      "mlx5_0 port 1 ==> enp7s0np0 (Up)\n",
      "mlx5_1 port 1 ==> enp8s0np1 (Down)\n",
      "\u001b[31m sudo: unable to resolve host server1: Name or service not known\n",
      " \u001b[0mmlx5_0 port 1 ==> enp7s0np0 (Up)\n",
      "mlx5_1 port 1 ==> enp8s0np1 (Up)\n",
      "\u001b[31m sudo: unable to resolve host server2: Name or service not known\n",
      " \u001b[0mmlx5_0 port 1 ==> enp7s0np0 (Up)\n",
      "mlx5_1 port 1 ==> enp8s0np1 (Down)\n",
      "\u001b[31m sudo: unable to resolve host server3: Name or service not known\n",
      " \u001b[0m"
     ]
    }
   ],
   "source": [
    "stdout, stderr = server1.execute(f'sudo ibdev2netdev')\n",
    "stdout, stderr = server1.execute(f'sudo mst status', quiet=True)\n",
    "stdout, stderr = server1.execute(f'sudo mst start', quiet=True)\n",
    "stdout, stderr = server1.execute(f'sudo mst status', quiet=True)\n",
    "\n",
    "stdout, stderr = server2.execute(f'sudo ibdev2netdev')\n",
    "stdout, stderr = server2.execute(f'sudo mst status', quiet=True)\n",
    "stdout, stderr = server2.execute(f'sudo mst start', quiet=True)\n",
    "stdout, stderr = server2.execute(f'sudo mst status', quiet=True)\n",
    "\n",
    "stdout, stderr = switch.execute(f'sudo ibdev2netdev')\n",
    "stdout, stderr = switch.execute(f'sudo mst status', quiet=True)\n",
    "stdout, stderr = switch.execute(f'sudo mst start', quiet=True)\n",
    "stdout, stderr = switch.execute(f'sudo mst status', quiet=True)\n",
    "\n",
    "stdout, stderr = server3.execute(f'sudo ibdev2netdev')\n",
    "stdout, stderr = server3.execute(f'sudo mst status', quiet=True)\n",
    "stdout, stderr = server3.execute(f'sudo mst start', quiet=True)\n",
    "stdout, stderr = server3.execute(f'sudo mst status', quiet=True)\n",
    "\n",
    "stdout, stderr = server4.execute(f'sudo ibdev2netdev')\n",
    "stdout, stderr = server4.execute(f'sudo mst status', quiet=True)\n",
    "stdout, stderr = server4.execute(f'sudo mst start', quiet=True)\n",
    "stdout, stderr = server4.execute(f'sudo mst status', quiet=True)\n",
    "\n",
    "stdout, stderr = server5.execute(f'sudo ibdev2netdev')\n",
    "stdout, stderr = server5.execute(f'sudo mst status', quiet=True)\n",
    "stdout, stderr = server5.execute(f'sudo mst start', quiet=True)\n",
    "stdout, stderr = server5.execute(f'sudo mst status', quiet=True)\n",
    "\n",
    "stdout, stderr = server6.execute(f'sudo ibdev2netdev')\n",
    "stdout, stderr = server6.execute(f'sudo mst status', quiet=True)\n",
    "stdout, stderr = server6.execute(f'sudo mst start', quiet=True)\n",
    "stdout, stderr = server6.execute(f'sudo mst status', quiet=True)"
   ]
  },
  {
   "cell_type": "markdown",
   "id": "61c0763e-784c-4d1e-ad19-d77ecc5b864d",
   "metadata": {},
   "source": [
    "# Get SSH"
   ]
  },
  {
   "cell_type": "code",
   "execution_count": 4,
   "id": "6d7e72f2-2111-486a-b079-6f5ee0e328a0",
   "metadata": {},
   "outputs": [
    {
     "data": {
      "text/plain": [
       "'ssh -i /home/fabric/work/fabric_config/slice_key -F /home/fabric/work/fabric_config/ssh_config ubuntu@2610:148:1f00:9f01:f816:3eff:fe74:8cb1'"
      ]
     },
     "execution_count": 4,
     "metadata": {},
     "output_type": "execute_result"
    }
   ],
   "source": [
    "server1.get_ssh_command()"
   ]
  },
  {
   "cell_type": "code",
   "execution_count": 5,
   "id": "d75c6d90-32b2-4845-b34a-c95682ad4f23",
   "metadata": {},
   "outputs": [
    {
     "data": {
      "text/plain": [
       "'ssh -i /home/fabric/work/fabric_config/slice_key -F /home/fabric/work/fabric_config/ssh_config ubuntu@2610:148:1f00:9f01:f816:3eff:feda:d235'"
      ]
     },
     "execution_count": 5,
     "metadata": {},
     "output_type": "execute_result"
    }
   ],
   "source": [
    "server2.get_ssh_command()"
   ]
  },
  {
   "cell_type": "code",
   "execution_count": 6,
   "id": "a00f6479-b525-4ac4-b0ff-39437de2da16",
   "metadata": {},
   "outputs": [
    {
     "data": {
      "text/plain": [
       "'ssh -i /home/fabric/work/fabric_config/slice_key -F /home/fabric/work/fabric_config/ssh_config ubuntu@2001:400:a100:3050:f816:3eff:fee6:d646'"
      ]
     },
     "execution_count": 6,
     "metadata": {},
     "output_type": "execute_result"
    }
   ],
   "source": [
    "switch.get_ssh_command()"
   ]
  },
  {
   "cell_type": "code",
   "execution_count": 7,
   "id": "cf1f4d3a-85bf-4ff5-97ab-1baa14900f1e",
   "metadata": {},
   "outputs": [
    {
     "data": {
      "text/plain": [
       "'ssh -i /home/fabric/work/fabric_config/slice_key -F /home/fabric/work/fabric_config/ssh_config ubuntu@2001:400:a100:3050:f816:3eff:fe3d:8327'"
      ]
     },
     "execution_count": 7,
     "metadata": {},
     "output_type": "execute_result"
    }
   ],
   "source": [
    "server3.get_ssh_command()"
   ]
  },
  {
   "cell_type": "code",
   "execution_count": 8,
   "id": "1a187cf9-5266-4cea-bfde-d047eee7211b",
   "metadata": {},
   "outputs": [
    {
     "data": {
      "text/plain": [
       "'ssh -i /home/fabric/work/fabric_config/slice_key -F /home/fabric/work/fabric_config/ssh_config ubuntu@2001:400:a100:3050:f816:3eff:feb3:4c6b'"
      ]
     },
     "execution_count": 8,
     "metadata": {},
     "output_type": "execute_result"
    }
   ],
   "source": [
    "server4.get_ssh_command()"
   ]
  },
  {
   "cell_type": "code",
   "execution_count": 9,
   "id": "2c956794-2ec9-4cff-bc7d-777e6cfde291",
   "metadata": {},
   "outputs": [
    {
     "data": {
      "text/plain": [
       "'ssh -i /home/fabric/work/fabric_config/slice_key -F /home/fabric/work/fabric_config/ssh_config ubuntu@2001:400:a100:3050:f816:3eff:fee3:b880'"
      ]
     },
     "execution_count": 9,
     "metadata": {},
     "output_type": "execute_result"
    }
   ],
   "source": [
    "server5.get_ssh_command()"
   ]
  },
  {
   "cell_type": "code",
   "execution_count": 10,
   "id": "64d8242d-d323-428f-a6e2-3e1462cce17c",
   "metadata": {},
   "outputs": [
    {
     "data": {
      "text/plain": [
       "'ssh -i /home/fabric/work/fabric_config/slice_key -F /home/fabric/work/fabric_config/ssh_config ubuntu@2001:400:a100:3050:f816:3eff:feca:9045'"
      ]
     },
     "execution_count": 10,
     "metadata": {},
     "output_type": "execute_result"
    }
   ],
   "source": [
    "server6.get_ssh_command()"
   ]
  },
  {
   "cell_type": "markdown",
   "id": "1b7cab7e-14e4-402d-91e1-73bedbd386d9",
   "metadata": {},
   "source": [
    "# Upload and Compile"
   ]
  },
  {
   "cell_type": "code",
   "execution_count": 11,
   "id": "5ab66bf2-349a-4f26-9a61-b1fefb7a9228",
   "metadata": {},
   "outputs": [],
   "source": [
    "threads = []\n",
    "\n",
    "for server in servers:\n",
    "    threads.append(server.execute_thread(f' sudo sh -c  \"echo 1024 > /sys/kernel/mm/hugepages/hugepages-2048kB/nr_hugepages\"'))\n",
    "\n",
    "for thread in threads:\n",
    "    thread.result()"
   ]
  },
  {
   "cell_type": "markdown",
   "id": "6cafe4cf-f63c-4c12-a4a3-35a7cc454f08",
   "metadata": {},
   "source": [
    "## Reflector"
   ]
  },
  {
   "cell_type": "code",
   "execution_count": 15,
   "id": "1b551543-8fb0-477a-a038-e935f2e94804",
   "metadata": {},
   "outputs": [
    {
     "name": "stdout",
     "output_type": "stream",
     "text": [
      "\u001b[31m sudo: unable to resolve host server2: Name or service not known\n",
      " \u001b[0m"
     ]
    }
   ],
   "source": [
    "server2.upload_file('experiments/reflector/reflector.p4','reflector.p4')\n",
    "stdout, stderr = server2.execute(f'sudo p4c-dpdk --arch=pna reflector.p4 -o reflector.spec')"
   ]
  },
  {
   "cell_type": "code",
   "execution_count": 16,
   "id": "669fc8a7-d84d-4bf1-b22a-fc6ba823f7d7",
   "metadata": {},
   "outputs": [
    {
     "data": {
      "text/plain": [
       "<SFTPAttributes: [ size=556 uid=1000 gid=1000 mode=0o100664 atime=1729096560 mtime=1729096560 ]>"
      ]
     },
     "execution_count": 16,
     "metadata": {},
     "output_type": "execute_result"
    }
   ],
   "source": [
    "server2.upload_file('experiments/reflector/ethdev0.io','ethdev0.io')\n",
    "server2.upload_file('experiments/reflector/reflector.cli','reflector.cli')"
   ]
  },
  {
   "cell_type": "markdown",
   "id": "65c3de87-26c3-47b2-9fe3-5c1429da4094",
   "metadata": {},
   "source": [
    "    cd dpdk\n",
    "    sudo examples/pipeline/build/pipeline -c 0x1F -- -s /home/ubuntu/reflector.cli"
   ]
  },
  {
   "cell_type": "code",
   "execution_count": 17,
   "id": "119e8310-c962-4440-863f-15b150a0e0df",
   "metadata": {},
   "outputs": [
    {
     "data": {
      "text/plain": [
       "'ssh -i /home/fabric/work/fabric_config/slice_key -F /home/fabric/work/fabric_config/ssh_config ubuntu@2001:18e8:fff0:3:f816:3eff:fe79:77b8'"
      ]
     },
     "execution_count": 17,
     "metadata": {},
     "output_type": "execute_result"
    }
   ],
   "source": [
    "server1.get_ssh_command()"
   ]
  },
  {
   "cell_type": "code",
   "execution_count": 57,
   "id": "e2452b58-8b01-405b-861f-118ba384dea1",
   "metadata": {},
   "outputs": [
    {
     "name": "stdout",
     "output_type": "stream",
     "text": [
      "07:00.0\n"
     ]
    }
   ],
   "source": [
    "stdout, stderr = server1.execute('lspci | grep ConnectX | awk \\'{print $1}\\'| head -n 1')"
   ]
  },
  {
   "cell_type": "markdown",
   "id": "3754e213-e91b-40f0-bd4b-8f86bbfa82ac",
   "metadata": {},
   "source": [
    "    sudo pktgen -l 0,1 -n 4 -a 07:00.0 -- -P -m \"1.0\"\n",
    "\n",
    "    set 0 src mac 00:00:00:00:00:01\n",
    "    set 0 dst mac 00:00:00:00:00:21\n",
    "    set 0 src ip 192.168.10.1/24\n",
    "    set 0 dst ip 192.168.10.2\n",
    "    set 0 size 1500"
   ]
  },
  {
   "cell_type": "code",
   "execution_count": 18,
   "id": "ddda69e4-aa23-499f-9b67-8d3cf2a43899",
   "metadata": {},
   "outputs": [
    {
     "data": {
      "text/plain": [
       "'ssh -i /home/fabric/work/fabric_config/slice_key -F /home/fabric/work/fabric_config/ssh_config ubuntu@2001:400:a100:3030:f816:3eff:fe8d:7886'"
      ]
     },
     "execution_count": 18,
     "metadata": {},
     "output_type": "execute_result"
    }
   ],
   "source": [
    "server3.get_ssh_command()"
   ]
  },
  {
   "cell_type": "code",
   "execution_count": 31,
   "id": "a821b257-378c-4d1d-99ae-b2dab5783e90",
   "metadata": {},
   "outputs": [
    {
     "name": "stdout",
     "output_type": "stream",
     "text": [
      "07:00.0\n"
     ]
    }
   ],
   "source": [
    "stdout, stderr = server3.execute('lspci | grep ConnectX | awk \\'{print $1}\\'| head -n 1')"
   ]
  },
  {
   "cell_type": "markdown",
   "id": "6deb79a6-41b9-49e1-9bff-11636b99bbc3",
   "metadata": {},
   "source": [
    "    sudo pktgen -l 0,1 -n 4 -a 07:00.0 -- -P -m \"1.0\"\n",
    "\n",
    "    set 0 src mac 00:00:00:00:00:03\n",
    "    set 0 dst mac 00:00:00:00:00:22\n",
    "    set 0 src ip 192.168.20.1/24\n",
    "    set 0 dst ip 192.168.20.2\n",
    "    set 0 size 1500"
   ]
  },
  {
   "cell_type": "markdown",
   "id": "529d5b75-bc94-4e41-96ee-c999575c6c80",
   "metadata": {
    "jp-MarkdownHeadingCollapsed": true
   },
   "source": [
    "## Heavy Hitter"
   ]
  },
  {
   "cell_type": "code",
   "execution_count": 29,
   "id": "827478b2-6f5f-4522-8677-4024dcb50091",
   "metadata": {},
   "outputs": [
    {
     "name": "stdout",
     "output_type": "stream",
     "text": [
      "\u001b[31m sudo: unable to resolve host server2: Name or service not known\n",
      " \u001b[0m"
     ]
    }
   ],
   "source": [
    "server2.upload_file('experiments/hh/hh.p4','hh.p4')\n",
    "stdout, stderr = server2.execute(f'sudo p4c-dpdk --arch=pna hh.p4 -o hh.spec')"
   ]
  },
  {
   "cell_type": "code",
   "execution_count": 8,
   "id": "a5b139ce-861e-44a8-bf0a-6a350a018d97",
   "metadata": {},
   "outputs": [
    {
     "data": {
      "text/plain": [
       "<SFTPAttributes: [ size=907 uid=1000 gid=1000 mode=0o100664 atime=1729192859 mtime=1729192860 ]>"
      ]
     },
     "execution_count": 8,
     "metadata": {},
     "output_type": "execute_result"
    }
   ],
   "source": [
    "server2.upload_file('experiments/hh/ethdev0.io','ethdev0.io')\n",
    "server2.upload_file('experiments/hh/ethdev1.io','ethdev1.io')\n",
    "server2.upload_file('experiments/hh/ethdev2.io','ethdev2.io')\n",
    "server2.upload_file('experiments/hh/ethdev3.io','ethdev3.io')\n",
    "server2.upload_file('experiments/hh/hh.cli','hh.cli')"
   ]
  },
  {
   "cell_type": "markdown",
   "id": "804c0791-c6e6-4564-a283-1e6c0afe56fc",
   "metadata": {},
   "source": [
    "    cd dpdk\n",
    "    sudo examples/pipeline/build/pipeline -c 0x1F -- -s /home/ubuntu/hh.cli"
   ]
  },
  {
   "cell_type": "code",
   "execution_count": 9,
   "id": "bd758a0b-558c-4114-b5a5-826a6057e856",
   "metadata": {},
   "outputs": [
    {
     "data": {
      "text/plain": [
       "'ssh -i /home/fabric/work/fabric_config/slice_key -F /home/fabric/work/fabric_config/ssh_config ubuntu@2001:400:a100:3080:f816:3eff:fe4f:3067'"
      ]
     },
     "execution_count": 9,
     "metadata": {},
     "output_type": "execute_result"
    }
   ],
   "source": [
    "server1.get_ssh_command()"
   ]
  },
  {
   "cell_type": "code",
   "execution_count": 10,
   "id": "f334239a-1111-4c74-ab68-1d484b8d0189",
   "metadata": {},
   "outputs": [
    {
     "name": "stdout",
     "output_type": "stream",
     "text": [
      "07:00.0\n"
     ]
    }
   ],
   "source": [
    "stdout, stderr = server1.execute('lspci | grep ConnectX | awk \\'{print $1}\\'| head -n 1')"
   ]
  },
  {
   "cell_type": "markdown",
   "id": "a64207d1-14b8-4237-bc64-7f64d60dba05",
   "metadata": {},
   "source": [
    "    sudo pktgen -l 0,1 -n 4 -a 07:00.0 -- -P -m \"1.0\"\n",
    "\n",
    "    page range\n",
    "\n",
    "    range 0 src mac start 00:00:00:00:00:01\n",
    "    range 0 src mac min 00:00:00:00:00:01\n",
    "    range 0 src mac max 00:00:00:00:00:01\n",
    "    \n",
    "    range 0 dst mac start 00:00:00:00:00:21\n",
    "    range 0 dst mac min 00:00:00:00:00:21\n",
    "    range 0 dst mac max 00:00:00:00:00:21\n",
    "    \n",
    "    range 0 src ip start 1.1.1.1\n",
    "    range 0 src ip min 1.1.1.1\n",
    "    range 0 src ip max 250.250.250.250\n",
    "    range 0 src ip inc 0.0.0.1\n",
    "    \n",
    "    range 0 dst ip start 1.1.1.1\n",
    "    range 0 dst ip min 1.1.1.1\n",
    "    range 0 dst ip max 250.250.250.250\n",
    "    range 0 dst ip inc 0.0.0.1\n",
    "    \n",
    "    range 0 size start 1500\n",
    "    range 0 size min 1500\n",
    "    range 0 size max 1500\n",
    "    range 0 size inc 0\n",
    "    \n",
    "    enable 0 range\n",
    "    page main"
   ]
  },
  {
   "cell_type": "code",
   "execution_count": 11,
   "id": "3470ca08-8284-47f7-8746-3cdb219592ff",
   "metadata": {},
   "outputs": [
    {
     "data": {
      "text/plain": [
       "'ssh -i /home/fabric/work/fabric_config/slice_key -F /home/fabric/work/fabric_config/ssh_config ubuntu@2001:400:a100:3080:f816:3eff:fef9:8841'"
      ]
     },
     "execution_count": 11,
     "metadata": {},
     "output_type": "execute_result"
    }
   ],
   "source": [
    "server3.get_ssh_command()"
   ]
  },
  {
   "cell_type": "code",
   "execution_count": 12,
   "id": "9efaf0ae-bc5a-4f3a-8ab8-3e157eeb9b27",
   "metadata": {},
   "outputs": [
    {
     "name": "stdout",
     "output_type": "stream",
     "text": [
      "07:00.0\n"
     ]
    }
   ],
   "source": [
    "stdout, stderr = server3.execute('lspci | grep ConnectX | awk \\'{print $1}\\'| head -n 1')"
   ]
  },
  {
   "cell_type": "markdown",
   "id": "adecc23f-ca5e-45d8-b998-f08c4909fa60",
   "metadata": {},
   "source": [
    "    sudo pktgen -l 0,1 -n 4 -a 07:00.0 -- -P -m \"1.0\"\n",
    "\n",
    "    set 0 src mac 00:00:00:00:00:03\n",
    "    set 0 dst mac 00:00:00:00:00:22\n",
    "    set 0 src ip 192.168.20.1/24\n",
    "    set 0 dst ip 192.168.20.2\n",
    "    set 0 size 1500\n",
    "    set 0 rate 1"
   ]
  },
  {
   "cell_type": "markdown",
   "id": "61f3239b-85cc-4b9f-bc5b-a14cf6588313",
   "metadata": {
    "jp-MarkdownHeadingCollapsed": true
   },
   "source": [
    "## SYN Flood"
   ]
  },
  {
   "cell_type": "code",
   "execution_count": 13,
   "id": "70d1c74f-5328-4b24-b105-464bf3d2dfaa",
   "metadata": {},
   "outputs": [
    {
     "name": "stdout",
     "output_type": "stream",
     "text": [
      "\u001b[31m sudo: unable to resolve host server2: Name or service not known\n",
      " \u001b[0m"
     ]
    }
   ],
   "source": [
    "server2.upload_file('experiments/syn/syn.p4','syn.p4')\n",
    "stdout, stderr = server2.execute(f'sudo p4c-dpdk --arch=pna syn.p4 -o syn.spec')"
   ]
  },
  {
   "cell_type": "code",
   "execution_count": 14,
   "id": "2f18971b-e021-4fba-a4e7-9d5e8cc7aa6d",
   "metadata": {},
   "outputs": [
    {
     "data": {
      "text/plain": [
       "<SFTPAttributes: [ size=1183 uid=1000 gid=1000 mode=0o100664 atime=1729194058 mtime=1729194058 ]>"
      ]
     },
     "execution_count": 14,
     "metadata": {},
     "output_type": "execute_result"
    }
   ],
   "source": [
    "server2.upload_file('experiments/syn/ethdev0.io','ethdev0.io')\n",
    "server2.upload_file('experiments/syn/ethdev1.io','ethdev1.io')\n",
    "server2.upload_file('experiments/syn/ethdev2.io','ethdev2.io')\n",
    "server2.upload_file('experiments/syn/ethdev3.io','ethdev3.io')\n",
    "server2.upload_file('experiments/syn/syn.cli','syn.cli')\n",
    "\n",
    "server2.upload_file('experiments/syn/rules.txt','rules.txt')\n",
    "server2.upload_file('experiments/syn/reset_SYN_packets_per_second.py','reset_SYN_packets_per_second.py')"
   ]
  },
  {
   "cell_type": "code",
   "execution_count": 15,
   "id": "c581f063-ff9c-40b8-96e3-124cfff2f66e",
   "metadata": {},
   "outputs": [
    {
     "data": {
      "text/plain": [
       "'ssh -i /home/fabric/work/fabric_config/slice_key -F /home/fabric/work/fabric_config/ssh_config ubuntu@2001:400:a100:3080:f816:3eff:fe30:337f'"
      ]
     },
     "execution_count": 15,
     "metadata": {},
     "output_type": "execute_result"
    }
   ],
   "source": [
    "server2.get_ssh_command()"
   ]
  },
  {
   "cell_type": "markdown",
   "id": "9de6cc93-4ece-4090-b329-f290822964e3",
   "metadata": {},
   "source": [
    "    cd dpdk\n",
    "    sudo examples/pipeline/build/pipeline -c 0x1F -- -s /home/ubuntu/syn.cli\n",
    "\n",
    "in a new terminal:\n",
    "    \n",
    "    sudo python3 reset_SYN_packets_per_second.py"
   ]
  },
  {
   "cell_type": "code",
   "execution_count": 9,
   "id": "3f20210f-21cc-49df-83b0-0cd41c4d6a03",
   "metadata": {},
   "outputs": [
    {
     "data": {
      "text/plain": [
       "'ssh -i /home/fabric/work/fabric_config/slice_key -F /home/fabric/work/fabric_config/ssh_config ubuntu@2001:400:a100:3080:f816:3eff:fe4f:3067'"
      ]
     },
     "execution_count": 9,
     "metadata": {},
     "output_type": "execute_result"
    }
   ],
   "source": [
    "server1.get_ssh_command()"
   ]
  },
  {
   "cell_type": "code",
   "execution_count": 10,
   "id": "6c97c860-d64e-4b72-9222-f8f3a062c59b",
   "metadata": {},
   "outputs": [
    {
     "name": "stdout",
     "output_type": "stream",
     "text": [
      "07:00.0\n"
     ]
    }
   ],
   "source": [
    "stdout, stderr = server1.execute('lspci | grep ConnectX | awk \\'{print $1}\\'| head -n 1')"
   ]
  },
  {
   "cell_type": "markdown",
   "id": "b27ee57e-c1e3-44a3-b38e-b1ad5a3f8866",
   "metadata": {},
   "source": [
    "    sudo pktgen -l 0,1 -n 4 -a 07:00.0 -- -P -m \"1.0\"\n",
    "\n",
    "    page range\n",
    "    \n",
    "    range 0 src mac start 00:00:00:00:00:01\n",
    "    range 0 src mac min 00:00:00:00:00:01\n",
    "    range 0 src mac max 00:00:00:00:00:01\n",
    "    \n",
    "    range 0 dst mac start 00:00:00:00:00:21\n",
    "    range 0 dst mac min 00:00:00:00:00:21\n",
    "    range 0 dst mac max 00:00:00:00:00:21\n",
    "    \n",
    "    range 0 src ip start 1.1.1.1\n",
    "    range 0 src ip min 1.1.1.1\n",
    "    range 0 src ip max 250.250.250.250\n",
    "    range 0 src ip inc 0.0.0.1\n",
    "    \n",
    "    range 0 dst ip start 192.168.20.1\n",
    "    range 0 dst ip min 192.168.20.1\n",
    "    range 0 dst ip max 192.168.20.1\n",
    "    \n",
    "    range 0 size start 1500\n",
    "    range 0 size min 1500\n",
    "    range 0 size max 1500\n",
    "    \n",
    "    range 0 tcp flag clr all\n",
    "    range 0 tcp flag set syn\n",
    "    \n",
    "    enable 0 range\n",
    "    page main"
   ]
  },
  {
   "cell_type": "code",
   "execution_count": 11,
   "id": "d75d61ab-cc27-494c-aa46-e98656e016c2",
   "metadata": {},
   "outputs": [
    {
     "data": {
      "text/plain": [
       "'ssh -i /home/fabric/work/fabric_config/slice_key -F /home/fabric/work/fabric_config/ssh_config ubuntu@2001:400:a100:3080:f816:3eff:fef9:8841'"
      ]
     },
     "execution_count": 11,
     "metadata": {},
     "output_type": "execute_result"
    }
   ],
   "source": [
    "server3.get_ssh_command()"
   ]
  },
  {
   "cell_type": "code",
   "execution_count": 12,
   "id": "aa825297-05ae-4053-a360-61919a4734de",
   "metadata": {},
   "outputs": [
    {
     "name": "stdout",
     "output_type": "stream",
     "text": [
      "07:00.0\n"
     ]
    }
   ],
   "source": [
    "stdout, stderr = server3.execute('lspci | grep ConnectX | awk \\'{print $1}\\'| head -n 1')"
   ]
  },
  {
   "cell_type": "markdown",
   "id": "74415340-c0f0-4e07-a2c3-18698922c998",
   "metadata": {},
   "source": [
    "    sudo pktgen -l 0,1 -n 4 -a 07:00.0 -- -P -m \"1.0\""
   ]
  },
  {
   "cell_type": "code",
   "execution_count": 16,
   "id": "ff9ce1cc-e08d-4dd2-89d3-e73971368f0e",
   "metadata": {},
   "outputs": [
    {
     "data": {
      "text/plain": [
       "'ssh -i /home/fabric/work/fabric_config/slice_key -F /home/fabric/work/fabric_config/ssh_config ubuntu@2001:400:a100:3080:f816:3eff:fe30:337f'"
      ]
     },
     "execution_count": 16,
     "metadata": {},
     "output_type": "execute_result"
    }
   ],
   "source": [
    "server2.get_ssh_command()"
   ]
  },
  {
   "cell_type": "markdown",
   "id": "261fe3e7-2173-4afd-9595-5d958a153f31",
   "metadata": {},
   "source": [
    "    telnet 0.0.0.0 8086\n",
    "\n",
    "    pipeline PIPELINE0 regwr drop_percent_reg_0 value 50 index 0\n",
    "    pipeline PIPELINE1 regwr drop_percent_reg_0 value 50 index 0\n",
    "    pipeline PIPELINE2 regwr drop_percent_reg_0 value 50 index 0\n",
    "    pipeline PIPELINE3 regwr drop_percent_reg_0 value 50 index 0\n",
    "    \n",
    "    pipeline PIPELINE0 regwr drop_percent_reg_0 value 100 index 0\n",
    "    pipeline PIPELINE1 regwr drop_percent_reg_0 value 100 index 0\n",
    "    pipeline PIPELINE2 regwr drop_percent_reg_0 value 100 index 0\n",
    "    pipeline PIPELINE3 regwr drop_percent_reg_0 value 100 index 0"
   ]
  },
  {
   "cell_type": "markdown",
   "id": "bf59691a-339d-4f98-8b43-5df76ea217db",
   "metadata": {
    "jp-MarkdownHeadingCollapsed": true
   },
   "source": [
    "## Interarrival Time"
   ]
  },
  {
   "cell_type": "code",
   "execution_count": 16,
   "id": "8d0597b1-b634-4e0a-a9c4-1c88fecec0db",
   "metadata": {},
   "outputs": [],
   "source": [
    "# stdout, stderr = server2.execute(f'cd dpdk/lib/pipeline/ &&  sudo rm rte_swx_pipeline.c && sudo rm rte_swx_pipeline_internal.h', quiet = True)\n",
    "# server2.upload_file('scripts/rte_swx_pipeline.c','/home/ubuntu/dpdk/lib/pipeline/rte_swx_pipeline.c')\n",
    "# server2.upload_file('scripts/rte_swx_pipeline_internal.h','/home/ubuntu/dpdk/lib/pipeline/rte_swx_pipeline_internal.h')\n",
    "# stdout, stderr = server2.execute(f'cd dpdk && cd build && sudo ninja && sudo ninja install && sudo ldconfig', quiet = True)"
   ]
  },
  {
   "cell_type": "code",
   "execution_count": 24,
   "id": "bc157def-d11f-4e1b-8937-ae6dc6f01337",
   "metadata": {},
   "outputs": [
    {
     "name": "stdout",
     "output_type": "stream",
     "text": [
      "\u001b[31m sudo: unable to resolve host server2: Name or service not known\n",
      " \u001b[0m"
     ]
    }
   ],
   "source": [
    "server2.upload_file('experiments/iat/iat.p4','iat.p4')\n",
    "stdout, stderr = server2.execute(f'sudo p4c-dpdk --arch=pna iat.p4 -o iat.spec')"
   ]
  },
  {
   "cell_type": "code",
   "execution_count": 25,
   "id": "766e1e3d-9b7f-4e4f-82d8-a84ff8d56715",
   "metadata": {},
   "outputs": [],
   "source": [
    "server2.download_file('experiments/iat/iat.spec','iat.spec')"
   ]
  },
  {
   "cell_type": "code",
   "execution_count": 26,
   "id": "1262a289-0456-408f-be64-8731fbc55bbc",
   "metadata": {},
   "outputs": [
    {
     "data": {
      "text/plain": [
       "<SFTPAttributes: [ size=112 uid=1000 gid=1000 mode=0o100664 atime=1729783507 mtime=1729809095 ]>"
      ]
     },
     "execution_count": 26,
     "metadata": {},
     "output_type": "execute_result"
    }
   ],
   "source": [
    "server2.upload_file('experiments/iat/ethdev0.io','ethdev0.io')\n",
    "# server2.upload_file('experiments/iat/ethdev1.io','ethdev1.io')\n",
    "# server2.upload_file('experiments/iat/ethdev2.io','ethdev2.io')\n",
    "# server2.upload_file('experiments/iat/ethdev3.io','ethdev3.io')\n",
    "server2.upload_file('experiments/iat/iat.cli','iat.cli')\n",
    "\n",
    "server2.upload_file('experiments/iat/rules.txt','rules.txt')"
   ]
  },
  {
   "cell_type": "code",
   "execution_count": 27,
   "id": "b77fc44b-e29c-454b-a96d-71e51aa1f7fc",
   "metadata": {},
   "outputs": [
    {
     "data": {
      "text/plain": [
       "<SFTPAttributes: [ size=3128 uid=1000 gid=1000 mode=0o100664 atime=1729803637 mtime=1729809102 ]>"
      ]
     },
     "execution_count": 27,
     "metadata": {},
     "output_type": "execute_result"
    }
   ],
   "source": [
    "server2.upload_file('experiments/iat/get_iat.py','get_iat.py')"
   ]
  },
  {
   "cell_type": "markdown",
   "id": "cfb3f97e-3376-4c65-8b50-b85e7fe018b4",
   "metadata": {},
   "source": [
    "    cd dpdk\n",
    "    sudo examples/pipeline/build/pipeline -c 0x1F -- -s /home/ubuntu/iat.cli\n",
    "    sudo python3 get_iat.py "
   ]
  },
  {
   "cell_type": "code",
   "execution_count": 28,
   "id": "e991af4f-ad81-409d-9d78-d8d564a5253b",
   "metadata": {},
   "outputs": [
    {
     "data": {
      "text/plain": [
       "'ssh -i /home/fabric/work/fabric_config/slice_key -F /home/fabric/work/fabric_config/ssh_config ubuntu@2001:400:a100:3080:f816:3eff:fef9:8841'"
      ]
     },
     "execution_count": 28,
     "metadata": {},
     "output_type": "execute_result"
    }
   ],
   "source": [
    "server3.get_ssh_command()"
   ]
  },
  {
   "cell_type": "markdown",
   "id": "ebc7021e-7e84-4e54-aff0-97dad621e078",
   "metadata": {},
   "source": [
    "    sudo ping 192.168.20.2 -i 1"
   ]
  },
  {
   "cell_type": "markdown",
   "id": "367aa414-8330-4435-af87-1e2a66cc0e0d",
   "metadata": {
    "jp-MarkdownHeadingCollapsed": true
   },
   "source": [
    "## Heavy Hitter and SYN Flood"
   ]
  },
  {
   "cell_type": "code",
   "execution_count": 29,
   "id": "f2e91afb-b85c-4680-9a59-c68d4b96a6a2",
   "metadata": {},
   "outputs": [
    {
     "ename": "FileNotFoundError",
     "evalue": "[Errno 2] No such file or directory: 'experiments/hh_syn/registers.p4'",
     "output_type": "error",
     "traceback": [
      "\u001b[0;31m---------------------------------------------------------------------------\u001b[0m",
      "\u001b[0;31mFileNotFoundError\u001b[0m                         Traceback (most recent call last)",
      "Cell \u001b[0;32mIn[29], line 3\u001b[0m\n\u001b[1;32m      1\u001b[0m server2\u001b[38;5;241m.\u001b[39mupload_file(\u001b[38;5;124m'\u001b[39m\u001b[38;5;124mexperiments/hh_syn/syn_flood.p4\u001b[39m\u001b[38;5;124m'\u001b[39m,\u001b[38;5;124m'\u001b[39m\u001b[38;5;124msyn_flood.p4\u001b[39m\u001b[38;5;124m'\u001b[39m)\n\u001b[1;32m      2\u001b[0m server2\u001b[38;5;241m.\u001b[39mupload_file(\u001b[38;5;124m'\u001b[39m\u001b[38;5;124mexperiments/hh_syn/hh_syn.p4\u001b[39m\u001b[38;5;124m'\u001b[39m,\u001b[38;5;124m'\u001b[39m\u001b[38;5;124mhh_syn.p4\u001b[39m\u001b[38;5;124m'\u001b[39m)\n\u001b[0;32m----> 3\u001b[0m \u001b[43mserver2\u001b[49m\u001b[38;5;241;43m.\u001b[39;49m\u001b[43mupload_file\u001b[49m\u001b[43m(\u001b[49m\u001b[38;5;124;43m'\u001b[39;49m\u001b[38;5;124;43mexperiments/hh_syn/registers.p4\u001b[39;49m\u001b[38;5;124;43m'\u001b[39;49m\u001b[43m,\u001b[49m\u001b[38;5;124;43m'\u001b[39;49m\u001b[38;5;124;43mregisters.p4\u001b[39;49m\u001b[38;5;124;43m'\u001b[39;49m\u001b[43m)\u001b[49m\n\u001b[1;32m      4\u001b[0m server2\u001b[38;5;241m.\u001b[39mupload_file(\u001b[38;5;124m'\u001b[39m\u001b[38;5;124mexperiments/hh_syn/headers.p4\u001b[39m\u001b[38;5;124m'\u001b[39m,\u001b[38;5;124m'\u001b[39m\u001b[38;5;124mheaders.p4\u001b[39m\u001b[38;5;124m'\u001b[39m)\n\u001b[1;32m      5\u001b[0m stdout, stderr \u001b[38;5;241m=\u001b[39m server2\u001b[38;5;241m.\u001b[39mexecute(\u001b[38;5;124mf\u001b[39m\u001b[38;5;124m'\u001b[39m\u001b[38;5;124msudo p4c-dpdk --arch=pna hh_syn.p4 -o hh_syn.spec\u001b[39m\u001b[38;5;124m'\u001b[39m)\n",
      "File \u001b[0;32m/opt/conda/lib/python3.11/site-packages/fabrictestbed_extensions/fablib/node.py:1837\u001b[0m, in \u001b[0;36mNode.upload_file\u001b[0;34m(self, local_file_path, remote_file_path, retry, retry_interval)\u001b[0m\n\u001b[1;32m   1834\u001b[0m logging\u001b[38;5;241m.\u001b[39mwarning(\u001b[38;5;124mf\u001b[39m\u001b[38;5;124m\"\u001b[39m\u001b[38;5;124mException on upload_file() attempt #\u001b[39m\u001b[38;5;132;01m{\u001b[39;00mattempt\u001b[38;5;132;01m}\u001b[39;00m\u001b[38;5;124m: \u001b[39m\u001b[38;5;132;01m{\u001b[39;00me\u001b[38;5;132;01m}\u001b[39;00m\u001b[38;5;124m\"\u001b[39m)\n\u001b[1;32m   1836\u001b[0m \u001b[38;5;28;01mif\u001b[39;00m attempt \u001b[38;5;241m+\u001b[39m \u001b[38;5;241m1\u001b[39m \u001b[38;5;241m==\u001b[39m retry:\n\u001b[0;32m-> 1837\u001b[0m     \u001b[38;5;28;01mraise\u001b[39;00m e\n\u001b[1;32m   1839\u001b[0m \u001b[38;5;66;03m# Fail, try again\u001b[39;00m\n\u001b[1;32m   1840\u001b[0m logging\u001b[38;5;241m.\u001b[39mwarning(\n\u001b[1;32m   1841\u001b[0m     \u001b[38;5;124mf\u001b[39m\u001b[38;5;124m\"\u001b[39m\u001b[38;5;124mSCP upload fail. Slice: \u001b[39m\u001b[38;5;132;01m{\u001b[39;00m\u001b[38;5;28mself\u001b[39m\u001b[38;5;241m.\u001b[39mget_slice()\u001b[38;5;241m.\u001b[39mget_name()\u001b[38;5;132;01m}\u001b[39;00m\u001b[38;5;124m, Node: \u001b[39m\u001b[38;5;132;01m{\u001b[39;00m\u001b[38;5;28mself\u001b[39m\u001b[38;5;241m.\u001b[39mget_name()\u001b[38;5;132;01m}\u001b[39;00m\u001b[38;5;124m, trying again. Exception: \u001b[39m\u001b[38;5;132;01m{\u001b[39;00me\u001b[38;5;132;01m}\u001b[39;00m\u001b[38;5;124m\"\u001b[39m\n\u001b[1;32m   1842\u001b[0m )\n",
      "File \u001b[0;32m/opt/conda/lib/python3.11/site-packages/fabrictestbed_extensions/fablib/node.py:1822\u001b[0m, in \u001b[0;36mNode.upload_file\u001b[0;34m(self, local_file_path, remote_file_path, retry, retry_interval)\u001b[0m\n\u001b[1;32m   1814\u001b[0m client\u001b[38;5;241m.\u001b[39mconnect(\n\u001b[1;32m   1815\u001b[0m     management_ip,\n\u001b[1;32m   1816\u001b[0m     username\u001b[38;5;241m=\u001b[39m\u001b[38;5;28mself\u001b[39m\u001b[38;5;241m.\u001b[39musername,\n\u001b[1;32m   1817\u001b[0m     pkey\u001b[38;5;241m=\u001b[39mkey,\n\u001b[1;32m   1818\u001b[0m     sock\u001b[38;5;241m=\u001b[39mbastion_channel,\n\u001b[1;32m   1819\u001b[0m )\n\u001b[1;32m   1821\u001b[0m ftp_client \u001b[38;5;241m=\u001b[39m client\u001b[38;5;241m.\u001b[39mopen_sftp()\n\u001b[0;32m-> 1822\u001b[0m file_attributes \u001b[38;5;241m=\u001b[39m \u001b[43mftp_client\u001b[49m\u001b[38;5;241;43m.\u001b[39;49m\u001b[43mput\u001b[49m\u001b[43m(\u001b[49m\u001b[43mlocal_file_path\u001b[49m\u001b[43m,\u001b[49m\u001b[43m \u001b[49m\u001b[43mremote_file_path\u001b[49m\u001b[43m)\u001b[49m\n\u001b[1;32m   1824\u001b[0m \u001b[38;5;28;01mif\u001b[39;00m \u001b[38;5;28mself\u001b[39m\u001b[38;5;241m.\u001b[39mget_fablib_manager()\u001b[38;5;241m.\u001b[39mget_log_level() \u001b[38;5;241m==\u001b[39m logging\u001b[38;5;241m.\u001b[39mDEBUG:\n\u001b[1;32m   1825\u001b[0m     end \u001b[38;5;241m=\u001b[39m time\u001b[38;5;241m.\u001b[39mtime()\n",
      "File \u001b[0;32m/opt/conda/lib/python3.11/site-packages/paramiko/sftp_client.py:757\u001b[0m, in \u001b[0;36mSFTPClient.put\u001b[0;34m(self, localpath, remotepath, callback, confirm)\u001b[0m\n\u001b[1;32m    729\u001b[0m \u001b[38;5;28;01mdef\u001b[39;00m \u001b[38;5;21mput\u001b[39m(\u001b[38;5;28mself\u001b[39m, localpath, remotepath, callback\u001b[38;5;241m=\u001b[39m\u001b[38;5;28;01mNone\u001b[39;00m, confirm\u001b[38;5;241m=\u001b[39m\u001b[38;5;28;01mTrue\u001b[39;00m):\n\u001b[1;32m    730\u001b[0m \u001b[38;5;250m    \u001b[39m\u001b[38;5;124;03m\"\"\"\u001b[39;00m\n\u001b[1;32m    731\u001b[0m \u001b[38;5;124;03m    Copy a local file (``localpath``) to the SFTP server as ``remotepath``.\u001b[39;00m\n\u001b[1;32m    732\u001b[0m \u001b[38;5;124;03m    Any exception raised by operations will be passed through.  This\u001b[39;00m\n\u001b[0;32m   (...)\u001b[0m\n\u001b[1;32m    755\u001b[0m \u001b[38;5;124;03m        ``confirm`` param added.\u001b[39;00m\n\u001b[1;32m    756\u001b[0m \u001b[38;5;124;03m    \"\"\"\u001b[39;00m\n\u001b[0;32m--> 757\u001b[0m     file_size \u001b[38;5;241m=\u001b[39m os\u001b[38;5;241m.\u001b[39mstat(localpath)\u001b[38;5;241m.\u001b[39mst_size\n\u001b[1;32m    758\u001b[0m     \u001b[38;5;28;01mwith\u001b[39;00m \u001b[38;5;28mopen\u001b[39m(localpath, \u001b[38;5;124m\"\u001b[39m\u001b[38;5;124mrb\u001b[39m\u001b[38;5;124m\"\u001b[39m) \u001b[38;5;28;01mas\u001b[39;00m fl:\n\u001b[1;32m    759\u001b[0m         \u001b[38;5;28;01mreturn\u001b[39;00m \u001b[38;5;28mself\u001b[39m\u001b[38;5;241m.\u001b[39mputfo(fl, remotepath, file_size, callback, confirm)\n",
      "\u001b[0;31mFileNotFoundError\u001b[0m: [Errno 2] No such file or directory: 'experiments/hh_syn/registers.p4'"
     ]
    }
   ],
   "source": [
    "server2.upload_file('experiments/hh_syn/syn_flood.p4','syn_flood.p4')\n",
    "server2.upload_file('experiments/hh_syn/hh_syn.p4','hh_syn.p4')\n",
    "server2.upload_file('experiments/hh_syn/registers.p4','registers.p4')\n",
    "server2.upload_file('experiments/hh_syn/headers.p4','headers.p4')\n",
    "stdout, stderr = server2.execute(f'sudo p4c-dpdk --arch=pna hh_syn.p4 -o hh_syn.spec')"
   ]
  },
  {
   "cell_type": "code",
   "execution_count": 34,
   "id": "700eb390-3f2e-4d26-a03e-436bf91a87c4",
   "metadata": {},
   "outputs": [
    {
     "name": "stdout",
     "output_type": "stream",
     "text": [
      "\u001b[31m sudo: unable to resolve host server2: Name or service not known\n",
      " \u001b[0m"
     ]
    }
   ],
   "source": [
    "server2.upload_file('experiments/hh_syn/hh_syn.p4','hh_syn.p4')\n",
    "stdout, stderr = server2.execute(f'sudo p4c-dpdk --arch=pna hh_syn.p4 -o hh_syn.spec')"
   ]
  },
  {
   "cell_type": "code",
   "execution_count": 31,
   "id": "59b36c45-4a06-487a-b1b9-9157a81478a1",
   "metadata": {},
   "outputs": [
    {
     "data": {
      "text/plain": [
       "<SFTPAttributes: [ size=112 uid=1000 gid=1000 mode=0o100664 atime=1729809127 mtime=1729864763 ]>"
      ]
     },
     "execution_count": 31,
     "metadata": {},
     "output_type": "execute_result"
    }
   ],
   "source": [
    "server2.upload_file('experiments/hh_syn/ethdev0.io','ethdev0.io')\n",
    "server2.upload_file('experiments/hh_syn/ethdev1.io','ethdev1.io')\n",
    "server2.upload_file('experiments/hh_syn/ethdev2.io','ethdev2.io')\n",
    "server2.upload_file('experiments/hh_syn/ethdev3.io','ethdev3.io')\n",
    "server2.upload_file('experiments/hh_syn/hh_syn.cli','hh_syn.cli')\n",
    "\n",
    "server2.upload_file('experiments/hh_syn/rules.txt','rules.txt')"
   ]
  },
  {
   "cell_type": "markdown",
   "id": "13a332bb-5377-4c81-8f3d-246fd4d8e652",
   "metadata": {},
   "source": [
    "    cd dpdk\n",
    "    sudo examples/pipeline/build/pipeline -c 0x1F -- -s /home/ubuntu/hh_syn.cli"
   ]
  },
  {
   "cell_type": "code",
   "execution_count": 32,
   "id": "ab3b1445-9a8a-484d-9641-9b150cdb3aa7",
   "metadata": {},
   "outputs": [
    {
     "data": {
      "text/plain": [
       "'ssh -i /home/fabric/work/fabric_config/slice_key -F /home/fabric/work/fabric_config/ssh_config ubuntu@2001:400:a100:3080:f816:3eff:fe4f:3067'"
      ]
     },
     "execution_count": 32,
     "metadata": {},
     "output_type": "execute_result"
    }
   ],
   "source": [
    "server1.get_ssh_command()"
   ]
  },
  {
   "cell_type": "code",
   "execution_count": 10,
   "id": "beca664a-7d6f-4ca7-81be-07ea85b6c961",
   "metadata": {},
   "outputs": [
    {
     "name": "stdout",
     "output_type": "stream",
     "text": [
      "07:00.0\n"
     ]
    }
   ],
   "source": [
    "stdout, stderr = server1.execute('lspci | grep ConnectX | awk \\'{print $1}\\'| head -n 1')"
   ]
  },
  {
   "cell_type": "markdown",
   "id": "d7c39631-733a-45bb-a441-8a2dd5ba024c",
   "metadata": {},
   "source": [
    "    sudo pktgen -l 0,1 -n 4 -a 07:00.0 -- -P -m \"1.0\"\n",
    "\n",
    "    page range\n",
    "\n",
    "    range 0 src mac start 00:00:00:00:00:01\n",
    "    range 0 src mac min 00:00:00:00:00:01\n",
    "    range 0 src mac max 00:00:00:00:00:01\n",
    "    \n",
    "    range 0 dst mac start 00:00:00:00:00:21\n",
    "    range 0 dst mac min 00:00:00:00:00:21\n",
    "    range 0 dst mac max 00:00:00:00:00:21\n",
    "    \n",
    "    range 0 src ip start 1.1.1.1\n",
    "    range 0 src ip min 1.1.1.1\n",
    "    range 0 src ip max 250.250.250.250\n",
    "    range 0 src ip inc 0.0.0.1\n",
    "    \n",
    "    range 0 dst ip start 192.168.20.1\n",
    "    range 0 dst ip min 192.168.20.1\n",
    "    range 0 dst ip max 192.168.20.1\n",
    "    \n",
    "    range 0 size start 1500\n",
    "    range 0 size min 1500\n",
    "    range 0 size max 1500\n",
    "\n",
    "    range 0 tcp flag clr all\n",
    "    range 0 tcp flag set syn\n",
    "    \n",
    "    enable 0 range\n",
    "    page main\n",
    "    "
   ]
  },
  {
   "cell_type": "code",
   "execution_count": 33,
   "id": "d13ec65e-b699-477c-ab92-a0301fba135b",
   "metadata": {},
   "outputs": [
    {
     "data": {
      "text/plain": [
       "'ssh -i /home/fabric/work/fabric_config/slice_key -F /home/fabric/work/fabric_config/ssh_config ubuntu@2001:400:a100:3080:f816:3eff:fef9:8841'"
      ]
     },
     "execution_count": 33,
     "metadata": {},
     "output_type": "execute_result"
    }
   ],
   "source": [
    "server3.get_ssh_command()"
   ]
  },
  {
   "cell_type": "code",
   "execution_count": 12,
   "id": "ab236abf-5853-4481-98fd-8d3adf0565bb",
   "metadata": {},
   "outputs": [
    {
     "name": "stdout",
     "output_type": "stream",
     "text": [
      "07:00.0\n"
     ]
    }
   ],
   "source": [
    "stdout, stderr = server3.execute('lspci | grep ConnectX | awk \\'{print $1}\\'| head -n 1')"
   ]
  },
  {
   "cell_type": "markdown",
   "id": "25bdc685-5ffa-4cba-89e9-f9776ff3c783",
   "metadata": {},
   "source": [
    "    sudo pktgen -l 0,1 -n 4 -a 07:00.0 -- -P -m \"1.0\"\n",
    "\n",
    "    set 0 src mac 00:00:00:00:00:03\n",
    "    set 0 dst mac 00:00:00:00:00:22\n",
    "    set 0 src ip 192.168.20.1/24\n",
    "    set 0 dst ip 192.168.10.1\n",
    "    set 0 size 1500\n",
    "    set 0 rate 0.5"
   ]
  },
  {
   "cell_type": "markdown",
   "id": "1a8218b8-0000-4f2b-95e0-f404da3128a8",
   "metadata": {
    "jp-MarkdownHeadingCollapsed": true
   },
   "source": [
    "## SYN-ACK Flood"
   ]
  },
  {
   "cell_type": "code",
   "execution_count": 18,
   "id": "7c5f605e-44d4-4176-8a2e-29cc63e81014",
   "metadata": {},
   "outputs": [
    {
     "name": "stdout",
     "output_type": "stream",
     "text": [
      "\u001b[31m sudo: unable to resolve host server2: Name or service not known\n",
      " \u001b[0m"
     ]
    }
   ],
   "source": [
    "server2.upload_file('experiments/syn_ack/syn_ack.p4','syn_ack.p4')\n",
    "stdout, stderr = server2.execute(f'sudo p4c-dpdk --arch=pna syn_ack.p4 -o syn_ack.spec')"
   ]
  },
  {
   "cell_type": "code",
   "execution_count": 7,
   "id": "4b1fc94e-0509-4eb8-b9cd-ca8fbcec058f",
   "metadata": {},
   "outputs": [
    {
     "data": {
      "text/plain": [
       "<SFTPAttributes: [ size=112 uid=1000 gid=1000 mode=0o100664 atime=1730129558 mtime=1730129765 ]>"
      ]
     },
     "execution_count": 7,
     "metadata": {},
     "output_type": "execute_result"
    }
   ],
   "source": [
    "server2.upload_file('experiments/syn_ack/ethdev0.io','ethdev0.io')\n",
    "server2.upload_file('experiments/syn_ack/ethdev1.io','ethdev1.io')\n",
    "server2.upload_file('experiments/syn_ack/ethdev2.io','ethdev2.io')\n",
    "server2.upload_file('experiments/syn_ack/ethdev3.io','ethdev3.io')\n",
    "server2.upload_file('experiments/syn_ack/syn_ack.cli','syn_ack.cli')\n",
    "\n",
    "server2.upload_file('experiments/syn_ack/rules.txt','rules.txt')"
   ]
  },
  {
   "cell_type": "code",
   "execution_count": 15,
   "id": "3e454e4e-892b-45f8-abf8-fbcce623542a",
   "metadata": {},
   "outputs": [
    {
     "data": {
      "text/plain": [
       "'ssh -i /home/fabric/work/fabric_config/slice_key -F /home/fabric/work/fabric_config/ssh_config ubuntu@2001:400:a100:3080:f816:3eff:fe30:337f'"
      ]
     },
     "execution_count": 15,
     "metadata": {},
     "output_type": "execute_result"
    }
   ],
   "source": [
    "server2.get_ssh_command()"
   ]
  },
  {
   "cell_type": "markdown",
   "id": "af2fabca-933a-4822-baf0-d1553cc2893a",
   "metadata": {},
   "source": [
    "    cd dpdk\n",
    "    sudo examples/pipeline/build/pipeline -c 0x1F -- -s /home/ubuntu/syn_ack.cli"
   ]
  },
  {
   "cell_type": "code",
   "execution_count": 9,
   "id": "3298631f-adb8-47ad-b92d-1117b29163dc",
   "metadata": {},
   "outputs": [
    {
     "data": {
      "text/plain": [
       "'ssh -i /home/fabric/work/fabric_config/slice_key -F /home/fabric/work/fabric_config/ssh_config ubuntu@2001:400:a100:3080:f816:3eff:fe4f:3067'"
      ]
     },
     "execution_count": 9,
     "metadata": {},
     "output_type": "execute_result"
    }
   ],
   "source": [
    "server1.get_ssh_command()"
   ]
  },
  {
   "cell_type": "code",
   "execution_count": 10,
   "id": "173b71cd-df14-45f5-b8bb-59b712a4e79b",
   "metadata": {},
   "outputs": [
    {
     "name": "stdout",
     "output_type": "stream",
     "text": [
      "07:00.0\n"
     ]
    }
   ],
   "source": [
    "stdout, stderr = server1.execute('lspci | grep ConnectX | awk \\'{print $1}\\'| head -n 1')"
   ]
  },
  {
   "cell_type": "markdown",
   "id": "6d1a50f3-6733-4ef1-8a8f-935c6e281402",
   "metadata": {},
   "source": [
    "    sudo pktgen -l 0,1 -n 4 -a 07:00.0 -- -P -m \"1.0\"\n",
    "    \n",
    "    page range\n",
    "\n",
    "    range 0 src mac start 00:00:00:00:00:01\n",
    "    range 0 src mac min 00:00:00:00:00:01\n",
    "    range 0 src mac max 00:00:00:00:00:01\n",
    "    \n",
    "    range 0 dst mac start 00:00:00:00:00:21\n",
    "    range 0 dst mac min 00:00:00:00:00:21\n",
    "    range 0 dst mac max 00:00:00:00:00:21\n",
    "    \n",
    "    range 0 src ip start 1.1.1.1\n",
    "    range 0 src ip min 1.1.1.1\n",
    "    range 0 src ip max 250.250.250.250\n",
    "    range 0 src ip inc 0.0.0.1\n",
    "    \n",
    "    range 0 dst ip start 192.168.20.1\n",
    "    range 0 dst ip min 192.168.20.1\n",
    "    range 0 dst ip max 192.168.20.1\n",
    "    \n",
    "    range 0 size start 1500\n",
    "    range 0 size min 1500\n",
    "    range 0 size max 1500\n",
    "    \n",
    "    range 0 tcp flag clr all\n",
    "    range 0 tcp flag set syn\n",
    "    range 0 tcp flag set ack\n",
    "    \n",
    "    enable 0 range\n",
    "    page main"
   ]
  },
  {
   "cell_type": "markdown",
   "id": "a0423b16-c927-48ec-a577-f538e9e28587",
   "metadata": {},
   "source": [
    "## MAIN"
   ]
  },
  {
   "cell_type": "code",
   "execution_count": 12,
   "id": "2787aebd-d062-4a6d-92e1-7955ea02612f",
   "metadata": {},
   "outputs": [],
   "source": [
    "stdout, stderr = server2.execute(f'mkdir main')"
   ]
  },
  {
   "cell_type": "code",
   "execution_count": 15,
   "id": "d3ef8a16-7fce-4d35-98be-ddf3cf90d71a",
   "metadata": {},
   "outputs": [
    {
     "name": "stdout",
     "output_type": "stream",
     "text": [
      "\u001b[31m sudo: unable to resolve host server2: Name or service not known\n",
      " \u001b[0m"
     ]
    }
   ],
   "source": [
    "server2.upload_file('experiments/reflector/reflector.p4','main/reflector.p4')\n",
    "stdout, stderr = server2.execute(f'cd main && sudo p4c-dpdk --arch=pna reflector.p4 -o main.spec')"
   ]
  },
  {
   "cell_type": "code",
   "execution_count": 13,
   "id": "98abca69-4703-4060-9985-ca2290449b15",
   "metadata": {},
   "outputs": [
    {
     "name": "stdout",
     "output_type": "stream",
     "text": [
      "\u001b[31m sudo: unable to resolve host server2: Name or service not known\n",
      "registers.p4(6): [--Wwarn=unused] warning: reg_state_ts: unused instance\n",
      "    Register<bit<2>, bit<1>>(1) reg_state_ts;\n",
      "                                ^^^^^^^^^^^^\n",
      "registers.p4(7): [--Wwarn=unused] warning: reg_timestamp1: unused instance\n",
      "    Register<bit<32>, bit<1>>(1) reg_timestamp1;\n",
      "                                 ^^^^^^^^^^^^^^\n",
      "registers.p4(8): [--Wwarn=unused] warning: reg_timestamp2: unused instance\n",
      "    Register<bit<32>, bit<1>>(1) reg_timestamp2;\n",
      "                                 ^^^^^^^^^^^^^^\n",
      "registers.p4(9): [--Wwarn=unused] warning: reg_timestamp3: unused instance\n",
      "    Register<bit<32>, bit<1>>(1) reg_timestamp3;\n",
      "                                 ^^^^^^^^^^^^^^\n",
      " \u001b[0m"
     ]
    }
   ],
   "source": [
    "server2.upload_file('main/ack_flood.p4','main/ack_flood.p4')\n",
    "server2.upload_file('main/control.p4','main/control.p4')\n",
    "server2.upload_file('main/deparser.p4','main/deparser.p4')\n",
    "server2.upload_file('main/fin_flood.p4','main/fin_flood.p4')\n",
    "server2.upload_file('main/get_icmp_flow.p4','main/get_icmp_flow.p4')\n",
    "server2.upload_file('main/get_tcp_flow.p4','main/get_tcp_flow.p4')\n",
    "server2.upload_file('main/headers.p4','main/headers.p4')\n",
    "server2.upload_file('main/heavy_hitter.p4','main/heavy_hitter.p4')\n",
    "server2.upload_file('main/icmp_flood.p4','main/icmp_flood.p4')\n",
    "server2.upload_file('main/main.p4','main/main.p4')\n",
    "server2.upload_file('main/parser.p4','main/parser.p4')\n",
    "server2.upload_file('main/registers.p4','main/registers.p4')\n",
    "server2.upload_file('main/syn_ack_flood.p4','main/syn_ack_flood.p4')\n",
    "server2.upload_file('main/syn_flood.p4','main/syn_flood.p4')\n",
    "server2.upload_file('main/udp_flood.p4','main/udp_flood.p4')\n",
    "stdout, stderr = server2.execute(f'cd main && sudo p4c-dpdk --arch=pna main.p4 -o main.spec')"
   ]
  },
  {
   "cell_type": "code",
   "execution_count": 14,
   "id": "4710e5de-ab46-4c01-9348-ea2cea276062",
   "metadata": {},
   "outputs": [
    {
     "data": {
      "text/plain": [
       "<SFTPAttributes: [ size=1349 uid=1000 gid=1000 mode=0o100664 atime=1736865582 mtime=1736865582 ]>"
      ]
     },
     "execution_count": 14,
     "metadata": {},
     "output_type": "execute_result"
    }
   ],
   "source": [
    "server2.upload_file('main/scripts/rules.txt','main/rules.txt')\n",
    "server2.upload_file('main/scripts/ethdev0.io','main/ethdev0.io')\n",
    "server2.upload_file('main/scripts/ethdev1.io','main/ethdev1.io')\n",
    "server2.upload_file('main/scripts/ethdev2.io','main/ethdev2.io')\n",
    "server2.upload_file('main/scripts/ethdev3.io','main/ethdev3.io')\n",
    "server2.upload_file('main/scripts/main.cli','main/main.cli')"
   ]
  },
  {
   "cell_type": "markdown",
   "id": "8ca845b3-864e-438f-967f-9410369d9a2f",
   "metadata": {},
   "source": [
    "    cd dpdk\n",
    "    sudo examples/pipeline/build/pipeline -c 0x1F -- -s /home/ubuntu/main/main.cli"
   ]
  },
  {
   "cell_type": "code",
   "execution_count": 9,
   "id": "7dbe1152-dd56-43ec-bcf0-812520c281b4",
   "metadata": {},
   "outputs": [
    {
     "data": {
      "text/plain": [
       "<SFTPAttributes: [ size=837 uid=1000 gid=1000 mode=0o100664 atime=1735932697 mtime=1735932697 ]>"
      ]
     },
     "execution_count": 9,
     "metadata": {},
     "output_type": "execute_result"
    }
   ],
   "source": [
    "# server2.upload_file('main/scripts/telnet.py','main/telnet.py')\n",
    "# server2.upload_file('main/scripts/print_flow.py','main/print_flow.py')\n",
    "server2.upload_file('main/scripts/clear.py','main/clear.py')"
   ]
  },
  {
   "cell_type": "code",
   "execution_count": 10,
   "id": "fc34d683-df5a-4ce6-8e74-6c2dffe7dc6d",
   "metadata": {},
   "outputs": [
    {
     "name": "stdout",
     "output_type": "stream",
     "text": [
      "\u001b[31m sudo: unable to resolve host server1: Name or service not known\n",
      " \u001b[0m\u001b[31m sudo: unable to resolve host server2: Name or service not known\n",
      " \u001b[0m\u001b[31m sudo: unable to resolve host server3: Name or service not known\n",
      " \u001b[0m"
     ]
    }
   ],
   "source": [
    "server1.upload_file('main/scripts/ethtool.sh','ethtool.sh')\n",
    "stdout, stderr = server1.execute(f'sudo chmod +x ethtool.sh')\n",
    "server2.upload_file('main/scripts/ethtool.sh','ethtool.sh')\n",
    "stdout, stderr = server2.execute(f'sudo chmod +x ethtool.sh')\n",
    "server3.upload_file('main/scripts/ethtool.sh','ethtool.sh')\n",
    "stdout, stderr = server3.execute(f'sudo chmod +x ethtool.sh')"
   ]
  },
  {
   "cell_type": "code",
   "execution_count": 19,
   "id": "90d88376-c23e-43e4-bdd4-316e1ddca59a",
   "metadata": {},
   "outputs": [
    {
     "name": "stdout",
     "output_type": "stream",
     "text": [
      "\u001b[31m sudo: unable to resolve host server3: Name or service not known\n",
      " \u001b[0m"
     ]
    }
   ],
   "source": [
    "server3.upload_file('main/scripts/send.py','send.py')\n",
    "stdout, stderr = server3.execute(f'sudo chmod +x send.py')"
   ]
  },
  {
   "cell_type": "code",
   "execution_count": 48,
   "id": "69d91c18-7759-48e1-ad75-b83a9fbb0dc4",
   "metadata": {},
   "outputs": [],
   "source": [
    "server2.download_file('main/main.spec','main/main.spec')"
   ]
  },
  {
   "cell_type": "code",
   "execution_count": 31,
   "id": "6ddea52a-a4fb-4391-9291-62398f32c182",
   "metadata": {},
   "outputs": [],
   "source": [
    "server1.download_file('network_packets.csv','network_packets.csv')"
   ]
  },
  {
   "cell_type": "markdown",
   "id": "84027a79-fd21-4e89-892a-f8b64a15fede",
   "metadata": {},
   "source": [
    "## MULTICORE"
   ]
  },
  {
   "cell_type": "code",
   "execution_count": 37,
   "id": "bfa8fc40-9250-44a6-8b53-9c4df9204ffc",
   "metadata": {},
   "outputs": [
    {
     "data": {
      "text/plain": [
       "<SFTPAttributes: [ size=6727 uid=1000 gid=1000 mode=0o100664 atime=1736116344 mtime=1736117226 ]>"
      ]
     },
     "execution_count": 37,
     "metadata": {},
     "output_type": "execute_result"
    }
   ],
   "source": [
    "# server2.upload_file('main/multicore/rules.txt','multicore/rules.txt')\n",
    "# server2.upload_file('main/multicore/ethdev0.io','multicore/ethdev0.io')\n",
    "# server2.upload_file('main/multicore/ethdev1.io','multicore/ethdev1.io')\n",
    "# server2.upload_file('main/multicore/ethdev2.io','multicore/ethdev2.io')\n",
    "# server2.upload_file('main/multicore/ethdev3.io','multicore/ethdev3.io')\n",
    "# server2.upload_file('main/multicore/ethdev4.io','multicore/ethdev4.io')\n",
    "# server2.upload_file('main/multicore/ethdev5.io','multicore/ethdev5.io')\n",
    "# server2.upload_file('main/multicore/ethdev6.io','multicore/ethdev6.io')\n",
    "# server2.upload_file('main/multicore/ethdev7.io','multicore/ethdev7.io')\n",
    "# server2.upload_file('main/multicore/p0.cli','multicore/p0.cli')\n",
    "# server2.upload_file('main/multicore/p1.cli','multicore/p1.cli')\n",
    "# server2.upload_file('main/multicore/p2.cli','multicore/p2.cli')\n",
    "# server2.upload_file('main/multicore/p3.cli','multicore/p3.cli')\n",
    "# server2.upload_file('main/multicore/p4.cli','multicore/p4.cli')\n",
    "# server2.upload_file('main/multicore/p5.cli','multicore/p5.cli')\n",
    "# server2.upload_file('main/multicore/p6.cli','multicore/p6.cli')\n",
    "# server2.upload_file('main/multicore/p7.cli','multicore/p7.cli')\n",
    "# server2.upload_file('main/multicore/telnet0.py','multicore/telnet0.py')\n",
    "# server2.upload_file('main/multicore/telnet1.py','multicore/telnet1.py')\n",
    "# server2.upload_file('main/multicore/telnet2.py','multicore/telnet2.py')\n",
    "# server2.upload_file('main/multicore/telnet3.py','multicore/telnet3.py')\n",
    "# server2.upload_file('main/multicore/telnet4.py','multicore/telnet4.py')\n",
    "# server2.upload_file('main/multicore/telnet5.py','multicore/telnet5.py')\n",
    "# server2.upload_file('main/multicore/telnet6.py','multicore/telnet6.py')\n",
    "# server2.upload_file('main/multicore/telnet7.py','multicore/telnet7.py')\n"
   ]
  },
  {
   "cell_type": "markdown",
   "id": "96b1cace-cfdc-43dc-a264-7ff6c4f61e6b",
   "metadata": {},
   "source": [
    "sudo examples/pipeline/build/pipeline -c 0x03 -- -s /home/ubuntu/multicore/p0.cli\n",
    "sudo examples/pipeline/build/pipeline -c 0x07 -- -s /home/ubuntu/multicore/p1.cli\n",
    "sudo examples/pipeline/build/pipeline -c 0x0F -- -s /home/ubuntu/multicore/p2.cli\n",
    "sudo examples/pipeline/build/pipeline -c 0x1F -- -s /home/ubuntu/multicore/p3.cli\n",
    "sudo examples/pipeline/build/pipeline -c 0x3F -- -s /home/ubuntu/multicore/p4.cli\n",
    "sudo examples/pipeline/build/pipeline -c 0x7F -- -s /home/ubuntu/multicore/p5.cli\n",
    "sudo examples/pipeline/build/pipeline -c 0xFF -- -s /home/ubuntu/multicore/p6.cli\n",
    "sudo examples/pipeline/build/pipeline -c 0x1FF -- -s /home/ubuntu/multicore/p7.cli"
   ]
  },
  {
   "cell_type": "markdown",
   "id": "49e6dd26-c20c-4c25-96c2-1b2f1aaaeca9",
   "metadata": {
    "jp-MarkdownHeadingCollapsed": true,
    "tags": []
   },
   "source": [
    "# Step 10: Delete the slice\n",
    "\n",
    "This concludes Lab 9. Please delete your slice when you are done with your experiment."
   ]
  },
  {
   "cell_type": "code",
   "execution_count": 1,
   "id": "1f27f3fc-004f-46c2-984c-8c2a90883eb6",
   "metadata": {
    "tags": []
   },
   "outputs": [],
   "source": [
    "from fabrictestbed_extensions.fablib.fablib import FablibManager as fablib_manager\n",
    "fablib = fablib_manager()\n",
    "slice = fablib.get_slice(name=\"P4DPDK_HH4\")\n",
    "# slice.delete()"
   ]
  }
 ],
 "metadata": {
  "kernelspec": {
   "display_name": "Python 3 (ipykernel)",
   "language": "python",
   "name": "python3"
  },
  "language_info": {
   "codemirror_mode": {
    "name": "ipython",
    "version": 3
   },
   "file_extension": ".py",
   "mimetype": "text/x-python",
   "name": "python",
   "nbconvert_exporter": "python",
   "pygments_lexer": "ipython3",
   "version": "3.11.9"
  }
 },
 "nbformat": 4,
 "nbformat_minor": 5
}
